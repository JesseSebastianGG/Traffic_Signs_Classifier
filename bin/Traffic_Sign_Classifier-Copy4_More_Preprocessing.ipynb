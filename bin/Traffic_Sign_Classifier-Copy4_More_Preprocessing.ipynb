{
 "cells": [
  {
   "cell_type": "markdown",
   "metadata": {},
   "source": [
    "# Self-Driving Car Engineer Nanodegree\n",
    "\n",
    "## Deep Learning\n",
    "\n",
    "## Project: Build a Traffic Sign Recognition Classifier\n",
    "\n",
    "In this notebook, a template is provided for you to implement your functionality in stages, which is required to successfully complete this project. If additional code is required that cannot be included in the notebook, be sure that the Python code is successfully imported and included in your submission if necessary. \n",
    "\n",
    "> **Note**: Once you have completed all of the code implementations, you need to finalize your work by exporting the iPython Notebook as an HTML document. Before exporting the notebook to html, all of the code cells need to have been run so that reviewers can see the final implementation and output. You can then export the notebook by using the menu above and navigating to  \\n\",\n",
    "    \"**File -> Download as -> HTML (.html)**. Include the finished document along with this notebook as your submission. \n",
    "\n",
    "In addition to implementing code, there is a writeup to complete. The writeup should be completed in a separate file, which can be either a markdown file or a pdf document. There is a [write up template](https://github.com/udacity/CarND-Traffic-Sign-Classifier-Project/blob/master/writeup_template.md) that can be used to guide the writing process. Completing the code template and writeup template will cover all of the [rubric points](https://review.udacity.com/#!/rubrics/481/view) for this project.\n",
    "\n",
    "The [rubric](https://review.udacity.com/#!/rubrics/481/view) contains \"Stand Out Suggestions\" for enhancing the project beyond the minimum requirements. The stand out suggestions are optional. If you decide to pursue the \"stand out suggestions\", you can include the code in this Ipython notebook and also discuss the results in the writeup file.\n",
    "\n",
    "\n",
    ">**Note:** Code and Markdown cells can be executed using the **Shift + Enter** keyboard shortcut. In addition, Markdown cells can be edited by typically double-clicking the cell to enter edit mode."
   ]
  },
  {
   "cell_type": "markdown",
   "metadata": {},
   "source": [
    "---\n",
    "## Step 0: Load The Data"
   ]
  },
  {
   "cell_type": "code",
   "execution_count": 2,
   "metadata": {
    "collapsed": true
   },
   "outputs": [],
   "source": [
    "# Load pickled data\n",
    "import pickle\n",
    "\n",
    "# TODO: Fill this in based on where you saved the training and testing data\n",
    "\n",
    "training_file =  '/home/jesse/Downloads/traffic_signs_data/train.p' # NB read only default\n",
    "validation_file= '/home/jesse/Downloads/traffic_signs_data/valid.p'\n",
    "testing_file =   '/home/jesse/Downloads/traffic_signs_data/test.p'\n",
    "\n",
    "with open(training_file, mode='rb') as f: # mode Read Binary\n",
    "    train = pickle.load(f)\n",
    "with open(validation_file, mode='rb') as f:\n",
    "    valid = pickle.load(f)\n",
    "with open(testing_file, mode='rb') as f:\n",
    "    test = pickle.load(f)\n",
    "    \n",
    "X_train, y_train = train['features'], train['labels']\n",
    "X_valid, y_valid = valid['features'], valid['labels']\n",
    "X_test, y_test = test['features'], test['labels']"
   ]
  },
  {
   "cell_type": "markdown",
   "metadata": {},
   "source": [
    "---\n",
    "\n",
    "## Step 1: Dataset Summary & Exploration\n",
    "\n",
    "The pickled data is a dictionary with 4 key/value pairs:\n",
    "\n",
    "- `'features'` is a 4D array containing raw pixel data of the traffic sign images, (num examples, width, height, channels).\n",
    "- `'labels'` is a 1D array containing the label/class id of the traffic sign. The file `signnames.csv` contains id -> name mappings for each id.\n",
    "- `'sizes'` is a list containing tuples, (width, height) representing the original width and height the image.\n",
    "- `'coords'` is a list containing tuples, (x1, y1, x2, y2) representing coordinates of a bounding box around the sign in the image. **THESE COORDINATES ASSUME THE ORIGINAL IMAGE. THE PICKLED DATA CONTAINS RESIZED VERSIONS (32 by 32) OF THESE IMAGES**\n",
    "\n",
    "Complete the basic data summary below. Use python, numpy and/or pandas methods to calculate the data summary rather than hard coding the results. For example, the [pandas shape method](http://pandas.pydata.org/pandas-docs/stable/generated/pandas.DataFrame.shape.html) might be useful for calculating some of the summary results. "
   ]
  },
  {
   "cell_type": "markdown",
   "metadata": {},
   "source": [
    "### 1.1 Provide a Basic Summary of the Data Set Using Python, Numpy and/or Pandas"
   ]
  },
  {
   "cell_type": "code",
   "execution_count": 3,
   "metadata": {},
   "outputs": [
    {
     "name": "stdout",
     "output_type": "stream",
     "text": [
      "Number of training examples = 34799\n",
      "Number of testing examples = 12630\n",
      "Image data shape = (32, 32, 3)\n",
      "Number of classes = 43\n"
     ]
    }
   ],
   "source": [
    "### Replace each question mark with the appropriate value. \n",
    "### Use python, pandas or numpy methods rather than hard coding the results\n",
    "\n",
    "import numpy as np\n",
    "import pandas as pd\n",
    "\n",
    "# TODO: Number of training examples\n",
    "n_train = X_train.shape[0]\n",
    "\n",
    "# TODO: Number of validation examples\n",
    "n_validation = X_valid.shape[0]\n",
    "\n",
    "# TODO: Number of testing examples.\n",
    "n_test = X_test.shape[0]\n",
    "\n",
    "# TODO: What's the shape of an traffic sign image?\n",
    "image_shape = X_train.shape[1:4] # index multiple dims - from 1 incl to 4 excl\n",
    "\n",
    "# TODO: How many unique classes/labels there are in the dataset.\n",
    "n_classes = len(set(y_train))\n",
    "\n",
    "print(\"Number of training examples =\", n_train)\n",
    "print(\"Number of testing examples =\", n_test)\n",
    "print(\"Image data shape =\", image_shape)\n",
    "print(\"Number of classes =\", n_classes)"
   ]
  },
  {
   "cell_type": "markdown",
   "metadata": {},
   "source": [
    "### 1.2 Include an exploratory visualization of the dataset"
   ]
  },
  {
   "cell_type": "markdown",
   "metadata": {},
   "source": [
    "Visualize the German Traffic Signs Dataset using the pickled file(s). This is open ended, suggestions include: plotting traffic sign images, plotting the count of each sign, etc. \n",
    "\n",
    "The [Matplotlib](http://matplotlib.org/) [examples](http://matplotlib.org/examples/index.html) and [gallery](http://matplotlib.org/gallery.html) pages are a great resource for doing visualizations in Python.\n",
    "\n",
    "**NOTE:** It's recommended you start with something simple first. If you wish to do more, come back to it after you've completed the rest of the sections. It can be interesting to look at the distribution of classes in the training, validation and test set. Is the distribution the same? Are there more examples of some classes than others?"
   ]
  },
  {
   "cell_type": "code",
   "execution_count": 4,
   "metadata": {
    "scrolled": true
   },
   "outputs": [
    {
     "data": {
      "image/png": "[encoded data removed]",
      "text/plain": [
       "<matplotlib.figure.Figure at 0x7faf58bfaa58>"
      ]
     },
     "metadata": {},
     "output_type": "display_data"
    },
    {
     "data": {
      "text/plain": [
       "(15.738297077502228, 12.002396466891161)"
      ]
     },
     "execution_count": 4,
     "metadata": {},
     "output_type": "execute_result"
    }
   ],
   "source": [
    "### Data exploration visualization code goes here.\n",
    "### Feel free to use as many code cells as needed.\n",
    "import matplotlib.pyplot as plt\n",
    "# Visualizations will be shown in the notebook.\n",
    "%matplotlib inline\n",
    "\n",
    "\n",
    "# Plot Histograms of 3 data sets (labels - distribution looks the same)\n",
    "plt.hist(y_train, bins=43, color='black', label=\"train\")\n",
    "plt.hist(y_test, bins=43, color='gray', label=\"test\")\n",
    "plt.hist(y_valid, bins=43, color='g', label=\"valid\")\n",
    "plt.title(\"Label Distributions\")\n",
    "plt.legend()\n",
    "plt.tight_layout()\n",
    "plt.show()\n",
    "\n",
    "# verify with eg % distribution - needs operation\n",
    "#train_valid = y_train/y_valid\n",
    "#train_test = y_train/y_test\n",
    "#test_valid = y_test/y_valid\n",
    "\n",
    "#\n",
    "np.mean(y_train), np.std(y_train)"
   ]
  },
  {
   "cell_type": "markdown",
   "metadata": {},
   "source": [
    "#### Observations\n",
    "\n",
    "There appears to be valid-train-test homogeneity (ebi confirm numerically).\n",
    "\n",
    "However some signs are much more common than others. Speed limit signs are generally (but not uniformly) over-represented. Lots of important signs are under-represented (danger children etc).\n",
    "\n",
    "This heterogeneity is most extreme in the training set and smoothed out for validation. The test set appears somewhere in the middle. This will impact learning later on unless artificial data are generated (eg with augmentation)."
   ]
  },
  {
   "cell_type": "markdown",
   "metadata": {},
   "source": [
    "#### Examine labels"
   ]
  },
  {
   "cell_type": "code",
   "execution_count": 91,
   "metadata": {
    "scrolled": true
   },
   "outputs": [
    {
     "name": "stdout",
     "output_type": "stream",
     "text": [
      "['ClassId' 'SignName']\n",
      "['0' 'Speed limit (20km/h)']\n",
      "['41' 'End of no passing']\n",
      "['42' 'End of no passing by vehicles over 3.5 metric tons']\n"
     ]
    }
   ],
   "source": [
    "# Decode\n",
    "signnames = np.loadtxt('signnames.csv', dtype=str, delimiter=',')\n",
    "#print(type(signnames))\n",
    "print(signnames[0,])\n",
    "print(signnames[1,]) # y_train=0 means \"20km/h\"; this happens when signnames index is 1\n",
    "print(signnames[42,])\n",
    "print(signnames[43,])"
   ]
  },
  {
   "cell_type": "markdown",
   "metadata": {},
   "source": [
    "----\n",
    "\n",
    "## Step 2: Design and Test a Model Architecture\n",
    "\n",
    "Design and implement a deep learning model that learns to recognize traffic signs. Train and test your model on the [German Traffic Sign Dataset](http://benchmark.ini.rub.de/?section=gtsrb&subsection=dataset).\n",
    "\n",
    "The LeNet-5 implementation shown in the [classroom](https://classroom.udacity.com/nanodegrees/nd013/parts/fbf77062-5703-404e-b60c-95b78b2f3f9e/modules/6df7ae49-c61c-4bb2-a23e-6527e69209ec/lessons/601ae704-1035-4287-8b11-e2c2716217ad/concepts/d4aca031-508f-4e0b-b493-e7b706120f81) at the end of the CNN lesson is a solid starting point. You'll have to change the number of classes and possibly the preprocessing, but aside from that it's plug and play! \n",
    "\n",
    "With the LeNet-5 solution from the lecture, you should expect a validation set accuracy of about 0.89. To meet specifications, the validation set accuracy will need to be at least 0.93. It is possible to get an even higher accuracy, but 0.93 is the minimum for a successful project submission. \n",
    "\n",
    "There are various aspects to consider when thinking about this problem:\n",
    "\n",
    "- Neural network architecture (is the network over or underfitting?)\n",
    "- Play around preprocessing techniques (normalization, rgb to grayscale, etc)\n",
    "- Number of examples per label (some have more than others).\n",
    "- Generate fake data.\n",
    "\n",
    "Here is an example of a [published baseline model on this problem](http://yann.lecun.com/exdb/publis/pdf/sermanet-ijcnn-11.pdf). It's not required to be familiar with the approach used in the paper but, it's good practice to try to read papers like these."
   ]
  },
  {
   "cell_type": "markdown",
   "metadata": {},
   "source": [
    "### 2.1 Pre-process the Data Set (normalization, grayscale, etc.)"
   ]
  },
  {
   "cell_type": "markdown",
   "metadata": {},
   "source": [
    "Minimally, the image data should be normalized so that the data has mean zero and equal variance. For image data, `(pixel - 128)/ 128` is a quick way to approximately normalize the data and can be used in this project. \n",
    "\n",
    "Other pre-processing steps are optional. You can try different techniques to see if it improves performance. \n",
    "\n",
    "Use the code cell (or multiple code cells, if necessary) to implement the first step of your project."
   ]
  },
  {
   "cell_type": "markdown",
   "metadata": {},
   "source": [
    "### 2.1.1 Helper functions"
   ]
  },
  {
   "cell_type": "code",
   "execution_count": 6,
   "metadata": {
    "collapsed": true
   },
   "outputs": [],
   "source": [
    "### Preprocess the data here. It is required to normalize the data. Other preprocessing steps could include \n",
    "### converting to grayscale, etc.\n",
    "### Feel free to use as many code cells as needed.\n",
    "\n",
    "import cv2\n",
    "seed = 32\n",
    "\n",
    "\n",
    "# Convert to grayscale\n",
    "def gray(img):\n",
    "    img_ = img.astype(np.uint8)\n",
    "    gray = cv2.cvtColor(img_, cv2.COLOR_RGB2GRAY)\n",
    "    gray_ = gray.astype(np.uint8)\n",
    "    return gray_\n",
    "\n",
    "# Credit Medium piece on this project\n",
    "# Convert grayscale to histogram equalise using cv2\n",
    "\n",
    "def equalize(img):\n",
    "    img_=img.astype(np.uint8)\n",
    "    equal = cv2.equalizeHist(img_)\n",
    "    return equal\n",
    "\n",
    "def norm_basic(img): # why doesn't this do what I want? outputs b/w image\n",
    "    out = ((img-128)/128).astype(np.uint8)\n",
    "    return (out)\n",
    "\n",
    "def merge(img_1, alpha, img_2, beta, gamma=0):\n",
    "    out = cv2.addWeighted(img_1, alpha, img_2, beta, gamma)\n",
    "    return out\n",
    "\n",
    "def add_Gauss_noise(img, color=True, rate=0.1):\n",
    "    '''\n",
    "    Adds rate*noise to (1-rate)*img; returns a blend. Enter color=False for grayscale image.\n",
    "    '''\n",
    "    np.random.seed(seed=seed)\n",
    "    ones = np.ones_like(img)\n",
    "    if color:\n",
    "        noise = (np.random.randn(ones.shape[0], ones.shape[1], ones.shape[2])*128+128).astype(np.uint8)\n",
    "    else:\n",
    "        noise = (np.random.randn(ones.shape[0])*128+128).astype(np.uint8)\n",
    "    merged = merge(img_1=img, alpha=1-rate, img_2=noise, beta=rate, gamma=0)\n",
    "    return merged\n",
    "\n",
    "def center(img):\n",
    "    return (img-np.mean(img)).astype(np.uint8)"
   ]
  },
  {
   "cell_type": "code",
   "execution_count": 7,
   "metadata": {
    "collapsed": true
   },
   "outputs": [],
   "source": [
    "# Define transformation functions\n",
    "# Credit: github.vxy10/ImageAugmentation\n",
    "\n",
    "def augment_brightness_camera_images(image):\n",
    "    image1 = cv2.cvtColor(image, cv2.COLOR_RGB2HSV)\n",
    "    random_bright = 0.25+np.random.uniform()\n",
    "    #print(random_bright)\n",
    "    image1[:,:,2]=image1[:,:,2]*random_bright\n",
    "    image1 = cv2.cvtColor(image1, cv2.COLOR_HSV2RGB)\n",
    "    return image1\n",
    "\n",
    "def transform_image(img, ang_range, shear_range, trans_range, brightness=0):\n",
    "    '''\n",
    "    This function transforms images to generate new images: rotation, shear, translation and brighten.\n",
    "    A random uniform distribution is used to generate different parameters for transformation.\n",
    "    Set \"brightness=1\" to augment brightness; ranges take floats.\n",
    "    '''\n",
    "    # Rotation\n",
    "    ang_rot = np.random.uniform(ang_range)-ang_range/2\n",
    "    rows, cols, ch = img.shape\n",
    "    Rot_M = cv2.getRotationMatrix2D((cols/2,rows/2), ang_rot, 1)\n",
    "    \n",
    "    # Translation\n",
    "    tr_x = trans_range * np.random.uniform()-trans_range/2\n",
    "    tr_y = trans_range * np.random.uniform()-trans_range/2\n",
    "    Trans_M = np.float32([[1,0,tr_x],[0,1,tr_y]])\n",
    "    \n",
    "    # Shear\n",
    "    pts1 = np.float32([[5,5],[20,5],[5,20]]) # are these numbers 32x32-friendly?\n",
    "    pt1 = 5+shear_range*np.random.uniform()-shear_range/2\n",
    "    pt2 = 20+shear_range*np.random.uniform()-shear_range/2\n",
    "    \n",
    "    # Brightness\n",
    "    # Seperate function\n",
    "    \n",
    "    \n",
    "    pts2 = np.float32([[pt1,5],[pt2,pt1],[5,pt2]])\n",
    "    \n",
    "    Shear_M = cv2.getAffineTransform(pts1, pts2)\n",
    "    \n",
    "    img = cv2.warpAffine(img, Rot_M, (cols,rows))\n",
    "    img = cv2.warpAffine(img, Trans_M, (cols, rows))\n",
    "    img = cv2.warpAffine(img, Shear_M, (cols,rows))\n",
    "    \n",
    "    if brightness == 1:\n",
    "        img = augment_brightness_camera_images(img)\n",
    "    \n",
    "    return img"
   ]
  },
  {
   "cell_type": "markdown",
   "metadata": {},
   "source": [
    "### Generate Data"
   ]
  },
  {
   "cell_type": "code",
   "execution_count": 34,
   "metadata": {
    "collapsed": true
   },
   "outputs": [],
   "source": [
    "# Do the counts (Which data do we need to supplement (artifically)?)\n",
    "\n",
    "d_train = np.zeros((43))\n",
    "for i in range(43):\n",
    "    fre = sum(y_train==i)\n",
    "    d_train[i]=fre\n",
    "    \n",
    "d_valid = np.zeros((43))\n",
    "for i in range(43):\n",
    "    fre = sum(y_valid==i)\n",
    "    d_valid[i]=fre\n",
    "\n",
    "d_test = np.zeros((43))\n",
    "for i in range(43):\n",
    "    fre = sum(y_test==i)\n",
    "    d_test[i]=fre"
   ]
  },
  {
   "cell_type": "code",
   "execution_count": 35,
   "metadata": {},
   "outputs": [
    {
     "name": "stdout",
     "output_type": "stream",
     "text": [
      "809.279069767 619.420183705\n",
      "540.0\n",
      "2\n",
      "2010.0 180.0 240.0 30.0 750.0 60.0\n",
      "[ True False False False False False  True False False False False False\n",
      " False False  True  True  True  True False  True  True  True  True  True\n",
      "  True False  True  True  True  True  True  True  True  True  True False\n",
      "  True  True False  True  True  True  True]\n",
      "[ 1820.    20.    -0.   740.   230.   350.  1640.   710.   740.   680.\n",
      "   200.   830.   110.    80.  1310.  1460.  1640.  1010.   920.  1820.\n",
      "  1700.  1730.  1670.  1550.  1760.   650.  1460.  1790.  1520.  1760.\n",
      "  1610.  1310.  1790.  1401.  1640.   920.  1670.  1820.   140.  1730.\n",
      "  1700.  1790.  1790.]\n",
      "51211.0\n"
     ]
    }
   ],
   "source": [
    "# Which columns are outliers?\n",
    "print(np.mean(d_train),np.std(d_train))\n",
    "print(np.median(d_train)) \n",
    "# With std=mean (approx), no data are outliers... . Max=10*min for all three datasets.\n",
    "# NB don't mess with the valid or test sets!\n",
    "print(np.argmax(d_train))\n",
    "print(np.max(d_train), np.min(d_train), np.max(d_valid), np.min(d_valid), np.max(d_test), np.min(d_test))\n",
    "\n",
    "# Let's generate otoo 1000 data for about 3/4 of the labels.\n",
    "\n",
    "print(d_train<1000)\n",
    "print((d_train<2000)*(2000-d_train)) # how many new data to create in each index\n",
    "print(np.sum((d_train<2000)*(2000-d_train)))\n",
    "\n",
    "#for value, index in "
   ]
  },
  {
   "cell_type": "code",
   "execution_count": 36,
   "metadata": {
    "scrolled": true
   },
   "outputs": [
    {
     "name": "stdout",
     "output_type": "stream",
     "text": [
      "label=  0 originals to transf :  18\n",
      "18\n",
      "label=  1 originals to transf :  0\n",
      "0\n",
      "0\n",
      "label=  3 originals to transf :  7\n",
      "7\n",
      "label=  4 originals to transf :  2\n",
      "2\n",
      "label=  5 originals to transf :  3\n",
      "3\n",
      "label=  6 originals to transf :  16\n",
      "16\n",
      "label=  7 originals to transf :  7\n",
      "7\n",
      "label=  8 originals to transf :  7\n",
      "7\n",
      "label=  9 originals to transf :  6\n",
      "6\n",
      "label=  10 originals to transf :  2\n",
      "2\n",
      "label=  11 originals to transf :  8\n",
      "8\n",
      "label=  12 originals to transf :  1\n",
      "1\n",
      "label=  13 originals to transf :  0\n",
      "0\n",
      "label=  14 originals to transf :  13\n",
      "13\n",
      "label=  15 originals to transf :  14\n",
      "14\n",
      "label=  16 originals to transf :  16\n",
      "16\n",
      "label=  17 originals to transf :  10\n",
      "10\n",
      "label=  18 originals to transf :  9\n",
      "9\n",
      "label=  19 originals to transf :  18\n",
      "18\n",
      "label=  20 originals to transf :  17\n",
      "17\n",
      "label=  21 originals to transf :  17\n",
      "17\n",
      "label=  22 originals to transf :  16\n",
      "16\n",
      "label=  23 originals to transf :  15\n",
      "15\n",
      "label=  24 originals to transf :  17\n",
      "17\n",
      "label=  25 originals to transf :  6\n",
      "6\n",
      "label=  26 originals to transf :  14\n",
      "14\n",
      "label=  27 originals to transf :  17\n",
      "17\n",
      "label=  28 originals to transf :  15\n",
      "15\n",
      "label=  29 originals to transf :  17\n",
      "17\n",
      "label=  30 originals to transf :  16\n",
      "16\n",
      "label=  31 originals to transf :  13\n",
      "13\n",
      "label=  32 originals to transf :  17\n",
      "17\n",
      "label=  33 originals to transf :  14\n",
      "14\n",
      "label=  34 originals to transf :  16\n",
      "16\n",
      "label=  35 originals to transf :  9\n",
      "9\n",
      "label=  36 originals to transf :  16\n",
      "16\n",
      "label=  37 originals to transf :  18\n",
      "18\n",
      "label=  38 originals to transf :  1\n",
      "1\n",
      "label=  39 originals to transf :  17\n",
      "17\n",
      "label=  40 originals to transf :  17\n",
      "17\n",
      "label=  41 originals to transf :  17\n",
      "17\n",
      "label=  42 originals to transf :  17\n",
      "17\n"
     ]
    }
   ],
   "source": [
    "# Perform Generation\n",
    "decision_boolean = d_train<2000\n",
    "num_to_gen       = (d_train<2000)*(2000-d_train)\n",
    "\n",
    "generated_image_list = []\n",
    "gen_labels_list = []\n",
    "\n",
    "for label in range(43):\n",
    "    testCounter=0 # delete when finished\n",
    "    if decision_boolean[label] == True:\n",
    "        num_to_gen_temp = int(num_to_gen[label])\n",
    "        num_originals_to_trans = int(num_to_gen_temp / 100)\n",
    "        print('label= ',label, 'originals to transf : ', num_originals_to_trans)\n",
    "        \n",
    "        # select however many images to transform\n",
    "        i = 0 # for each of the 18 i-values, transform 100 images\n",
    "        while i < num_originals_to_trans: # 18 for first label; i=0,1,2,...,17\n",
    "            # then for each one, generate 100 new images\n",
    "            for index, label_temp in enumerate(y_train): # (0,43),(1,12),(2,0),...,(25k,27)\n",
    "                if i < num_originals_to_trans and label_temp == label: # whenever y_train has value '0' eg (2,0)\n",
    "                    img_temp = X_train[index] # select X_train[2] (an image corresponding to label=0)\n",
    "                    # generate & store*2 100 images from gen_new(img_temp)\n",
    "                    j = 0\n",
    "                    while j < 100: # change back to 100 after testing\n",
    "                        img = transform_image(img_temp, 10,5,2,brightness=0) # 20,10,5,1\n",
    "                        generated_image_list.append(img) # append images\n",
    "                        gen_labels_list.append(label) # and labels\n",
    "                        j += 1 # until 100 have been created\n",
    "                    testCounter+=1\n",
    "                    i += 1 # goes up each time new image is chosen (and multiplied)\n",
    "    print(testCounter) # delete when finished"
   ]
  },
  {
   "cell_type": "code",
   "execution_count": 139,
   "metadata": {
    "scrolled": true
   },
   "outputs": [
    {
     "name": "stdout",
     "output_type": "stream",
     "text": [
      "40\n",
      "['40' 'Roundabout mandatory']\n",
      "40\n"
     ]
    },
    {
     "data": {
      "image/png": "[encoded data removed]",
      "text/plain": [
       "<matplotlib.figure.Figure at 0x7faecc2bb588>"
      ]
     },
     "metadata": {},
     "output_type": "display_data"
    }
   ],
   "source": [
    "# Reality check - make sure images have correct label (see csv!), are different etc\n",
    "i=44500\n",
    "print(gen_labels_list[i]) # y=36, corresponding to signnames[37,] = \"go straight or right\"\n",
    "print(signnames[gen_labels_list[i]+1,])\n",
    "\n",
    "# Get an original\n",
    "check_i = -1\n",
    "target = signnames[gen_labels_list[i]+1,][0]\n",
    "print(target)\n",
    "for index, value in enumerate(y_train):\n",
    "    #print (index,str(value),target,value==target,type(value),type(target))\n",
    "    if str(value) == target:\n",
    "        check_i = index\n",
    "        break\n",
    "\n",
    "# Plot\n",
    "fig = plt.figure(figsize=(8,16))\n",
    "\n",
    "a = fig.add_subplot(121)\n",
    "a.set_title(\"Generated\")\n",
    "plt.imshow(generated_image_list[i])\n",
    "\n",
    "a = fig.add_subplot(122)\n",
    "a.set_title(\"An Original\")\n",
    "plt.imshow(X_train[check_i])\n",
    "\n",
    "plt.show()"
   ]
  },
  {
   "cell_type": "markdown",
   "metadata": {},
   "source": [
    "### Merge Gen Data with Original"
   ]
  },
  {
   "cell_type": "code",
   "execution_count": 140,
   "metadata": {},
   "outputs": [
    {
     "name": "stdout",
     "output_type": "stream",
     "text": [
      "Gen:  (49600, 32, 32, 3) (49600,)\n",
      "Original:  (34799, 32, 32, 3) (34799,)\n",
      "Merging...\n",
      "Merged:  (84399, 32, 32, 3) (84399,)\n"
     ]
    }
   ],
   "source": [
    "# Convert\n",
    "generated_image_array = np.asarray(generated_image_list)\n",
    "gen_labels_array      = np.asarray(gen_labels_list)\n",
    "\n",
    "print(\"Gen: \", generated_image_array.shape, gen_labels_array.shape)\n",
    "print(\"Original: \", X_train.shape, y_train.shape)\n",
    "print(\"Merging...\")\n",
    "merged_images = np.concatenate((X_train, generated_image_array),axis=0)\n",
    "merged_labels = np.concatenate((y_train, gen_labels_array),axis=0)\n",
    "\n",
    "print(\"Merged: \", merged_images.shape, merged_labels.shape)"
   ]
  },
  {
   "cell_type": "code",
   "execution_count": 12,
   "metadata": {},
   "outputs": [
    {
     "data": {
      "image/png": "[encoded data removed]",
      "text/plain": [
       "<matplotlib.figure.Figure at 0x7f1ffdc3fcc0>"
      ]
     },
     "metadata": {},
     "output_type": "display_data"
    },
    {
     "name": "stdout",
     "output_type": "stream",
     "text": [
      "True\n"
     ]
    }
   ],
   "source": [
    "# Visualization of Noise-Adding Process\n",
    "\n",
    "img = X_train[0]; color=True; rate=0.1\n",
    "np.random.seed(seed=seed)\n",
    "ones = np.ones_like(img)\n",
    "if color:\n",
    "    noise = (np.random.randn(ones.shape[0], ones.shape[1], ones.shape[2])*128+128).astype(np.uint8)\n",
    "else:\n",
    "    noise = (np.random.randn(ones.shape[0])*128+128).astype(np.uint8)\n",
    "merged = merge(img_1=img, alpha=1-rate, img_2=noise, beta=rate, gamma=0)\n",
    "\n",
    "fig = plt.figure(figsize=(15,15))\n",
    "\n",
    "pic_1 = img\n",
    "a = fig.add_subplot(141)\n",
    "a.set_title('Original')\n",
    "plt.imshow(pic_1)\n",
    "\n",
    "pic_2 = noise\n",
    "a = fig.add_subplot(142)\n",
    "a.set_title('Noise')\n",
    "plt.imshow(pic_2)\n",
    "\n",
    "pic_3 = merged\n",
    "a = fig.add_subplot(143)\n",
    "a.set_title('Merged')\n",
    "plt.imshow(pic_3)\n",
    "\n",
    "pic_4 = add_Gauss_noise(img)\n",
    "a= fig.add_subplot(144)\n",
    "a.set_title('Test function')\n",
    "plt.imshow(pic_4)\n",
    "\n",
    "plt.tight_layout()\n",
    "plt.show()\n",
    "\n",
    "print(np.min(pic_4==pic_3))"
   ]
  },
  {
   "cell_type": "code",
   "execution_count": 13,
   "metadata": {
    "scrolled": true
   },
   "outputs": [
    {
     "data": {
      "image/png": "[encoded data removed]",
      "text/plain": [
       "<matplotlib.figure.Figure at 0x7f1ffde79550>"
      ]
     },
     "metadata": {},
     "output_type": "display_data"
    }
   ],
   "source": [
    "# Visualization of Graying Process - Experiments\n",
    "\n",
    "def viz_gray(index=0):\n",
    "    fig = plt.figure(figsize=(15,10))\n",
    "\n",
    "    img_1 = X_test[index]\n",
    "    a = fig.add_subplot(161)\n",
    "    a.set_title('Original')\n",
    "    plt.imshow(img_1)\n",
    "\n",
    "    img_2 = norm_basic(img_1)\n",
    "    a = fig.add_subplot(162)\n",
    "    a.set_title('Normalised')\n",
    "    plt.imshow(img_2)\n",
    "\n",
    "    img_3 = gray(img_1).astype(np.uint8)\n",
    "    a = fig.add_subplot(163)\n",
    "    a.set_title('Gray')\n",
    "    plt.imshow(img_3,cmap='gray')\n",
    "\n",
    "    img_4 = gray(img_2).astype(np.uint8)\n",
    "    a = fig.add_subplot(164)\n",
    "    a.set_title('Norm_Gray')\n",
    "    plt.imshow(img_4,cmap='gray')\n",
    "    \n",
    "    img_5 = equalize(img_3)\n",
    "    a = fig.add_subplot(165)\n",
    "    a.set_title('gray_equalized')\n",
    "    plt.imshow(img_5, cmap='gray')\n",
    "    \n",
    "    test = norm_basic(img_5)\n",
    "    test = test.astype(np.uint8)\n",
    "    a = fig.add_subplot(166)\n",
    "    a.set_title('gr_eq_norm')\n",
    "    plt.imshow(test, cmap='gray')\n",
    "    \n",
    "    plt.tight_layout()\n",
    "    plt.show()\n",
    "viz_gray(100)"
   ]
  },
  {
   "cell_type": "code",
   "execution_count": 146,
   "metadata": {},
   "outputs": [
    {
     "data": {
      "image/png": "[encoded data removed]",
      "text/plain": [
       "<matplotlib.figure.Figure at 0x7faecd07d438>"
      ]
     },
     "metadata": {},
     "output_type": "display_data"
    },
    {
     "name": "stdout",
     "output_type": "stream",
     "text": [
      "255\n"
     ]
    }
   ],
   "source": [
    "# Def of crucial function and visualization of Pre-Processing Chain\n",
    "# noise, gray, equalize, center\n",
    "\n",
    "# Define pre-processing function\n",
    "def pre_process(image,noise_=True,gray_=True,equalize_=True,center_=True):\n",
    "    if noise_:\n",
    "        image = add_Gauss_noise(image)\n",
    "    if gray_:\n",
    "        image = gray(image) # 98,80,80\n",
    "    if equalize_:\n",
    "        image = equalize(image) # 98,80,80\n",
    "    #image = (image-128)/128 # 98,82,85; NB norm_basic(image) - fails, still not sure why but converts to b/w\n",
    "    if center:\n",
    "        image = center(image) #NB should equalize happen second?\n",
    "    \n",
    "    return image\n",
    "\n",
    "def viz_chain(img,noise_=True,gray_=True,equalize_=True,center_=True):\n",
    "    fig = plt.figure(figsize=(15,10))\n",
    "    a = fig.add_subplot(161)\n",
    "    a.set_title('original')\n",
    "    plt.imshow(img)\n",
    "    \n",
    "    # Noise\n",
    "    pic_1 = add_Gauss_noise(img)\n",
    "    a = fig.add_subplot(162)\n",
    "    a.set_title('with noise')\n",
    "    plt.imshow(pic_1)\n",
    "    \n",
    "    pic_2 = gray(pic_1)\n",
    "    a = fig.add_subplot(163)\n",
    "    a.set_title('grayed')\n",
    "    plt.imshow(pic_2,cmap='gray')\n",
    "    \n",
    "    pic_3 = equalize(pic_2)\n",
    "    a = fig.add_subplot(164)\n",
    "    a.set_title('equalized')\n",
    "    plt.imshow(pic_3,cmap='gray')\n",
    "    \n",
    "    pic_4 = center(pic_3)\n",
    "    a = fig.add_subplot(165)\n",
    "    a.set_title('centred')\n",
    "    plt.imshow(pic_4,cmap='gray')\n",
    "    \n",
    "    pic_5 = pre_process(img,noise_=noise_,gray_=gray_,equalize_=equalize_,center_=center_) # test\n",
    "    a = fig.add_subplot(166)\n",
    "    a.set_title('as function')\n",
    "    plt.imshow(pic_5,cmap='gray')\n",
    "    \n",
    "    plt.tight_layout()\n",
    "    plt.show()\n",
    "    \n",
    "    print(np.max(pic_4-pic_5)) # double-check!\n",
    "imagen = X_train[110]\n",
    "viz_chain(imagen,noise_=False)"
   ]
  },
  {
   "cell_type": "markdown",
   "metadata": {},
   "source": [
    "### 2.1.2 Perform Preprocessing"
   ]
  },
  {
   "cell_type": "code",
   "execution_count": null,
   "metadata": {
    "collapsed": true
   },
   "outputs": [],
   "source": [
    "# !!!\n",
    "# First get originals (REFRESH, undo any previous pre-processing)\n",
    "X_train, y_train = train['features'], train['labels']\n",
    "X_valid, y_valid = valid['features'], valid['labels']\n",
    "X_test, y_test = test['features'], test['labels']"
   ]
  },
  {
   "cell_type": "code",
   "execution_count": 147,
   "metadata": {},
   "outputs": [
    {
     "name": "stdout",
     "output_type": "stream",
     "text": [
      "test shapes:  (84399, 32, 32) (34799, 32, 32, 3)\n",
      "valid shapes:  (4410, 32, 32) (4410, 32, 32, 3)\n",
      "test shapes:  (12630, 32, 32) (12630, 32, 32, 3)\n",
      "Note whether gray has been applied or not for below\n"
     ]
    }
   ],
   "source": [
    "# !!! CHOOSE WHETHER OR NOT TO APPLY PREPROCESS !!!\n",
    "# Convert dataset - takes a few seconds\n",
    "# If merging, skip this and see below\n",
    "\n",
    "apply_pre_process = True\n",
    "if apply_pre_process:\n",
    "    # Create transformed images (array of same shape as original but images lose a rank)\n",
    "    # First create a list, then convert to array. Print shapes for reality check.\n",
    "    X_train_new_list = []\n",
    "    for image in X_train: #for image in X_train:\n",
    "        new = pre_process(image,noise_=False,gray_=True,equalize_=False, center_=False)\n",
    "        X_train_new_list.append(new)    \n",
    "    X_train_new_array = np.asarray(X_train_new_list)\n",
    "    print(\"test shapes: \", X_train_new_array.shape, X_train.shape)\n",
    "\n",
    "    X_valid_new_list = []\n",
    "    for image in X_valid:\n",
    "        new = pre_process(image,noise_=False,gray_=True,equalize_=False, center_=False)\n",
    "        X_valid_new_list.append(new)\n",
    "    X_valid_new_array = np.asarray(X_valid_new_list)\n",
    "    print(\"valid shapes: \", X_valid_new_array.shape, X_valid.shape)\n",
    "\n",
    "    X_test_new_list = []\n",
    "    for image in X_test:\n",
    "        new = pre_process(image,noise_=False,gray_=True,equalize_=False, center_=False)\n",
    "        X_test_new_list.append(new)\n",
    "    X_test_new_array = np.asarray(X_test_new_list)\n",
    "    print(\"test shapes: \", X_test_new_array.shape, X_test.shape)\n",
    "    print(\"Note whether gray has been applied or not for below\")"
   ]
  },
  {
   "cell_type": "code",
   "execution_count": 148,
   "metadata": {},
   "outputs": [
    {
     "data": {
      "text/plain": [
       "<matplotlib.image.AxesImage at 0x7faeccfe0f28>"
      ]
     },
     "execution_count": 148,
     "metadata": {},
     "output_type": "execute_result"
    },
    {
     "data": {
      "image/png": "[encoded data removed]",
      "text/plain": [
       "<matplotlib.figure.Figure at 0x7faecc3ec6d8>"
      ]
     },
     "metadata": {},
     "output_type": "display_data"
    }
   ],
   "source": [
    "# Visualise transformed signs (colorscale=hot, why not?) 1100\n",
    "plt.imshow(X_train_new_array[21000], cmap='gray')\n",
    "#plt.imshow(X_train[21000])"
   ]
  },
  {
   "cell_type": "markdown",
   "metadata": {},
   "source": [
    "### 2.1.3 More advanced pre-processing\n",
    "\n",
    "                                        Credit: Kessy, Lewin, Strimmer 2015 (2016)\n",
    "                                        Optimal Whitening and Decorrelation\n",
    "                                        Imperial \\& Brunel\n",
    "\n",
    "The idea is to transform a d-dimensional vector $x$ of mean $\\mu$ and covariance matrix $\\Sigma = X^T X$ to another d-dimensional vector $z=Wx$. The choice of $W$, the \"whitening\" matrix, depends on the desired transformation. z has the property $var(z)=I$, and if x has been zeroed then $E(z)=0$.\n",
    "\n",
    "The simplest standardization is $Z=Wx$ where $W = V^{-\\frac{1}{2}}$ and $V=diag(\\sigma_{1}^2,...,\\sigma_d^2)$ is the diagonal matrix of variances.\n",
    "\n",
    "Note the identities of decomposition:\n",
    "\n",
    "$\\Sigma=V^\\frac{1}{2} P V^\\frac{1}{2}$ where $P$ is the correlation matrix and $V$ the diagonal covariance matrix;\n",
    "\n",
    "and eigen-decomposition:\n",
    "\n",
    "$\\Sigma = U \\Lambda U^T  $ where $U$ is an eigenvector matrix and $\\Lambda$ an eigenvalue (of $\\Sigma$) matrix;\n",
    "\n",
    "$P = G\\Theta G^T$ where $G$ contains eigenvectors and $\\Theta$ eigenvalues (of $P$).\n",
    "\n",
    "\n",
    "The conclusions of the paper are as follows:\n",
    "\n",
    "1. ZCA whitening\n",
    "$W = \\Sigma\\ ^ {-\\frac{1}{2}}$;\n",
    "2. ZCA-cor whitening (maximally similar to original)\n",
    "$W = P ^ {-\\frac{1}{2}} V ^ {-\\frac{1}{2}}$;\n",
    "3.  PCA-cor (maximally compressed original)\n",
    "$W = \\Theta ^ {-\\frac{1}{2}} G^T V ^ {-\\frac{1}{2}} $."
   ]
  },
  {
   "cell_type": "markdown",
   "metadata": {},
   "source": [
    "### Data Augmentation\n",
    "\n",
    "Some techniques for transformations (affine and other):\n",
    "1. Translation\n",
    "2. Small rotations\n",
    "3. Colour transformations\n",
    "6. Expanding\n",
    "4. Add random noise\n",
    "5. Blurring\n",
    "\n",
    "Motivation:\n",
    "1. Balancing training set (generate more data for the under-represented labels (see above) or trim over-)\n",
    "2. Increase variance of training data to increase robustness of learned model"
   ]
  },
  {
   "cell_type": "markdown",
   "metadata": {},
   "source": [
    "### Model Architecture"
   ]
  },
  {
   "cell_type": "code",
   "execution_count": 19,
   "metadata": {},
   "outputs": [],
   "source": [
    "### Define your architecture here.\n",
    "### Feel free to use as many code cells as needed.\n",
    "\n",
    "import tensorflow as tf\n",
    "from keras.models import Sequential\n",
    "from keras.layers import Dropout\n",
    "from keras.layers.convolutional import Convolution2D, MaxPooling2D\n",
    "from keras.layers.core import Activation, Flatten, Dense\n",
    "from keras.optimizers import SGD, Adam\n",
    "from keras.utils import np_utils"
   ]
  },
  {
   "cell_type": "code",
   "execution_count": 27,
   "metadata": {
    "collapsed": true
   },
   "outputs": [],
   "source": [
    "# Hyperparameters\n",
    "learning_rate = 0.001 #0.001\n",
    "n_epochs = 20\n",
    "batch_size = 128\n",
    "\n",
    "# Network params\n",
    "n_classes = 43\n",
    "dropout = 0.7"
   ]
  },
  {
   "cell_type": "markdown",
   "metadata": {},
   "source": [
    "#### LeNet 1998 (later try resnet etc? inception)\n",
    "in -> conv -> relu -> pool -> conv -> relu -> pool -> fc -> relu -> fc -> softmax -> out\n",
    "<p>\n",
    "in -> conv_1 -> pool_1 -> conv_2 -> pool_2 -> fc_1 -> fc_2 -> out"
   ]
  },
  {
   "cell_type": "code",
   "execution_count": 173,
   "metadata": {
    "collapsed": true
   },
   "outputs": [],
   "source": [
    "# Credit: pyimagesearch.com - Adrian Rosebrock 2016 for architecture and code (edited for notebook)\n",
    "\n",
    "# lenet.py\n",
    "\n",
    "def build(width, height, depth, classes,\n",
    "          weights_path=\n",
    "          \"/home/jesse//Documents/Udacity/Drafts/Traffic_Sign/CarND-Traffic-Sign-Classifier-Project/Weights.csv\"):\n",
    "    \n",
    "    model = Sequential()\n",
    "    \n",
    "    #First conv-rely-pool chain\n",
    "    model.add(Convolution2D(filters=6,kernel_size=(5,5),padding='same', input_shape=(height,width,depth),\n",
    "                           data_format=\"channels_last\")) # 20 filters\n",
    "    model.add(Activation('relu'))\n",
    "    model.add(MaxPooling2D(pool_size=(2,2), strides=(2,2))) # n = (n+2p-f)/s+1 = (32-2)/2+1 = 16 (2,2 always halves)\n",
    " \n",
    "    #Second con-relu-pool chain\n",
    "    model.add(Convolution2D(filters=16,kernel_size=(5,5),padding='same',\n",
    "                           data_format=\"channels_first\")) # NB new input_shape, unspecified' 50 filters\n",
    "    model.add(Activation('relu'))\n",
    "    model.add(MaxPooling2D(pool_size=(2,2), strides=(2,2))) # n = (16-2)/2+1 = 8\n",
    "    \n",
    "    ##Third con-relu-pool chain 31/12/17 00:40\n",
    "    #model.add(Convolution2D(filters=256,kernel_size=(5,5),padding='same',\n",
    "    #                       data_format=\"channels_first\")) # NB new input_shape, unspecified' 50 filters\n",
    "    #model.add(Activation('relu'))\n",
    "    #model.add(MaxPooling2D(pool_size=(2,2), strides=(2,2))) # n = (16-2)/2+1 = 8\n",
    "    \n",
    "    #Fully-connected layers\n",
    "    model.add(Flatten())\n",
    "    \n",
    "    # Dropout\n",
    "    model.add(Dropout(rate=dropout))\n",
    "    \n",
    "    model.add(Dense(units=128))\n",
    "    model.add(Activation('relu'))\n",
    "    \n",
    "    # FC - experimental\n",
    "    model.add(Dense(units=64))\n",
    "    model.add(Activation('relu'))\n",
    "    \n",
    "    #Softmax classifier\n",
    "    model.add(Dense(classes)) # penultimate layer, having 43 nodes\n",
    "    model.add(Activation('softmax'))\n",
    "    \n",
    "    #Use any pre-loaded weights - activated if said argument supplied when build() is called\n",
    "    if weights_path is not None:\n",
    "        model.load_weights(weights_path)\n",
    "        \n",
    "    return model"
   ]
  },
  {
   "cell_type": "markdown",
   "metadata": {},
   "source": [
    "### Train, Validate and Test the Model"
   ]
  },
  {
   "cell_type": "markdown",
   "metadata": {},
   "source": [
    "A validation set can be used to assess how well the model is performing. A low accuracy on the training and validation\n",
    "sets imply underfitting. A high accuracy on the training set but low accuracy on the validation set implies overfitting."
   ]
  },
  {
   "cell_type": "code",
   "execution_count": 29,
   "metadata": {
    "collapsed": true
   },
   "outputs": [],
   "source": [
    "### Train your model here.\n",
    "### Calculate and report the accuracy on the training and validation set.\n",
    "### Once a final model architecture is selected, \n",
    "### the accuracy on the test set should be calculated and reported as well.\n",
    "### Feel free to use as many code cells as needed."
   ]
  },
  {
   "cell_type": "markdown",
   "metadata": {},
   "source": [
    "### Input Datasets"
   ]
  },
  {
   "cell_type": "code",
   "execution_count": 153,
   "metadata": {},
   "outputs": [],
   "source": [
    "# Define data including one-hot encoded labels\n",
    "trainData = merged_images #-128 #/255 #merged_images #np.asarray(generated_image_list)# X_train\n",
    "validData = X_valid #-128 #/255 #X_valid\n",
    "testData = X_test #-128 #/255 #X_test\n",
    "trainLabels = np_utils.to_categorical(merged_labels, 43) #(merged_labels,43) #(gen_labels_list), 43) #(y_train, 43)\n",
    "validLabels = np_utils.to_categorical(y_valid, 43)\n",
    "testLabels = np_utils.to_categorical(y_test, 43)"
   ]
  },
  {
   "cell_type": "markdown",
   "metadata": {},
   "source": [
    "### Manual Dataset Selection & Processing (Merged then process)"
   ]
  },
  {
   "cell_type": "code",
   "execution_count": 165,
   "metadata": {
    "collapsed": true
   },
   "outputs": [],
   "source": [
    "# Convert to gray manually\n",
    "# Define data including one-hot encoded labels\n",
    "\n",
    "trainData = np.sum(merged_images/3,axis=3,keepdims=True) #-128 #/255 #merged_images #np.asarray(generated_image_list)# X_train\n",
    "validData = np.sum(X_valid/3,axis=3,keepdims=True)  #-128 #/255 #X_valid\n",
    "testData = np.sum(X_test/3,axis=3,keepdims=True)   #-128 #/255 #X_test\n",
    "\n",
    "trainLabels = np_utils.to_categorical(merged_labels, 43) #(merged_labels,43) #(gen_labels_list), 43) #(y_train, 43)\n",
    "validLabels = np_utils.to_categorical(y_valid, 43)\n",
    "testLabels = np_utils.to_categorical(y_test, 43)"
   ]
  },
  {
   "cell_type": "code",
   "execution_count": 170,
   "metadata": {},
   "outputs": [],
   "source": [
    "# CENTER & NARROW (NORMALIZE)\n",
    "\n",
    "#print(np.mean(trainData)) # 71.5\n",
    "#print(np.mean(validDatata))# 83.6\n",
    "#print(np.mean(testData))# 82.1\n",
    "trainData = (trainData-71)/71\n",
    "validData = (validData-84)/84\n",
    "testData = (testData-82)/82"
   ]
  },
  {
   "cell_type": "code",
   "execution_count": 163,
   "metadata": {},
   "outputs": [
    {
     "data": {
      "text/plain": [
       "(32, 32, 1)"
      ]
     },
     "execution_count": 163,
     "metadata": {},
     "output_type": "execute_result"
    }
   ],
   "source": [
    "#plt.imshow(trainData[0],cmap='gray')\n",
    "trainData[0].astype(np.uint8).shape\n",
    "#plt.imshow(trainData[0].astype(np.uint8))"
   ]
  },
  {
   "cell_type": "code",
   "execution_count": 30,
   "metadata": {},
   "outputs": [
    {
     "name": "stdout",
     "output_type": "stream",
     "text": [
      "test shapes:  (84399, 32, 32) (84399, 32, 32, 3)\n",
      "valid shapes:  (4410, 32, 32) (4410, 32, 32, 3)\n",
      "test shapes:  (12630, 32, 32) (12630, 32, 32, 3)\n",
      "Note whether gray has been applied or not for below\n"
     ]
    }
   ],
   "source": [
    "# !!!!!!!!!!!!!!!!!!!!!\n",
    "apply_pre_process = True\n",
    "if apply_pre_process:\n",
    "    # Create transformed images (array of same shape as original but images lose a rank)\n",
    "    # First create a list, then convert to array. Print shapes for reality check.\n",
    "    X_train_new_list = []\n",
    "    for image in merged_images:\n",
    "        new = pre_process(image)\n",
    "        X_train_new_list.append(new)    \n",
    "    X_train_new_array = np.asarray(X_train_new_list)\n",
    "    print(\"test shapes: \", X_train_new_array.shape, merged_images.shape)\n",
    "\n",
    "    X_valid_new_list = []\n",
    "    for image in X_valid:\n",
    "        new = pre_process(image)\n",
    "        X_valid_new_list.append(new)\n",
    "    X_valid_new_array = np.asarray(X_valid_new_list)\n",
    "    print(\"valid shapes: \", X_valid_new_array.shape, X_valid.shape)\n",
    "\n",
    "    X_test_new_list = []\n",
    "    for image in X_test:\n",
    "        new = pre_process(image)\n",
    "        X_test_new_list.append(new)\n",
    "    X_test_new_array = np.asarray(X_test_new_list)\n",
    "    print(\"test shapes: \", X_test_new_array.shape, X_test.shape)\n",
    "    print(\"Note whether gray has been applied or not for below\")"
   ]
  },
  {
   "cell_type": "code",
   "execution_count": 150,
   "metadata": {},
   "outputs": [
    {
     "name": "stdout",
     "output_type": "stream",
     "text": [
      "(32, 32, 1)\n"
     ]
    }
   ],
   "source": [
    "# IGNORE THIS CELL IF USING COLOR\n",
    "# IF and only if grayscale has been applied, add back the missing dimension, and set depth=1 (else 3) below.\n",
    "apply_gray = True\n",
    "if apply_gray:\n",
    "    #trainData = X_train.reshape((X_train.shape[0], 32, 32)) # error 3x\n",
    "    #testData = X_test_norm.reshape((X_test.shape[0], 32, 32))\n",
    "    #trainLabels = y_train.reshape((y_train.shape[0], 32, 32))\n",
    "    #testLabels = y_test.reshape((y_test.shape[0], 32, 32))\n",
    "\n",
    "    trainData = X_train_new_array\n",
    "    validData = X_valid_new_array\n",
    "    testData = X_test_new_array\n",
    "\n",
    "    # re-insert channel axis for Keras\n",
    "    trainData = trainData[:,:,:,np.newaxis]\n",
    "    validData = validData[:,:,:,np.newaxis]\n",
    "    testData  = testData[:,:,:,np.newaxis]\n",
    "    print(trainData[0].shape)\n",
    "else:\n",
    "    plt.imshow(trainData[0])"
   ]
  },
  {
   "cell_type": "markdown",
   "metadata": {},
   "source": [
    "### Start learning (get comfortable...)\n",
    "Adjust \"depth\" if not grayscaling images."
   ]
  },
  {
   "cell_type": "code",
   "execution_count": 171,
   "metadata": {
    "scrolled": true
   },
   "outputs": [
    {
     "name": "stdout",
     "output_type": "stream",
     "text": [
      "[INFO] compiling model...\n",
      "[INFO] training...\n",
      "Epoch 1/20\n",
      "84399/84399 [==============================] - 80s - loss: 1.1646 - acc: 0.6993    \n",
      "Epoch 2/20\n",
      "84399/84399 [==============================] - 79s - loss: 0.2982 - acc: 0.9151    \n",
      "Epoch 3/20\n",
      "84399/84399 [==============================] - 79s - loss: 0.1599 - acc: 0.9538    \n",
      "Epoch 4/20\n",
      "84399/84399 [==============================] - 79s - loss: 0.1137 - acc: 0.9673    \n",
      "Epoch 5/20\n",
      "84399/84399 [==============================] - 79s - loss: 0.0875 - acc: 0.9746    \n",
      "Epoch 6/20\n",
      "84399/84399 [==============================] - 79s - loss: 0.0661 - acc: 0.9809    \n",
      "Epoch 7/20\n",
      "84399/84399 [==============================] - 79s - loss: 0.0581 - acc: 0.9827    \n",
      "Epoch 8/20\n",
      "84399/84399 [==============================] - 79s - loss: 0.0511 - acc: 0.9850    \n",
      "Epoch 9/20\n",
      "84399/84399 [==============================] - 79s - loss: 0.0447 - acc: 0.9868    \n",
      "Epoch 10/20\n",
      "84399/84399 [==============================] - 79s - loss: 0.0375 - acc: 0.9892    \n",
      "Epoch 11/20\n",
      "84399/84399 [==============================] - 79s - loss: 0.0376 - acc: 0.9883    \n",
      "Epoch 12/20\n",
      "84399/84399 [==============================] - 79s - loss: 0.0351 - acc: 0.9896    \n",
      "Epoch 13/20\n",
      "84399/84399 [==============================] - 79s - loss: 0.0268 - acc: 0.9918    \n",
      "Epoch 14/20\n",
      "84399/84399 [==============================] - 79s - loss: 0.0298 - acc: 0.9911    \n",
      "Epoch 15/20\n",
      "84399/84399 [==============================] - 79s - loss: 0.0247 - acc: 0.9927    \n",
      "Epoch 16/20\n",
      "84399/84399 [==============================] - 79s - loss: 0.0246 - acc: 0.9929    \n",
      "Epoch 17/20\n",
      "84399/84399 [==============================] - 79s - loss: 0.0260 - acc: 0.9928    \n",
      "Epoch 18/20\n",
      "84399/84399 [==============================] - 79s - loss: 0.0239 - acc: 0.9928    \n",
      "Epoch 19/20\n",
      "84399/84399 [==============================] - 80s - loss: 0.0212 - acc: 0.9941    \n",
      "Epoch 20/20\n",
      "84399/84399 [==============================] - 79s - loss: 0.0194 - acc: 0.9945    \n",
      "[INFO] evaluating\n",
      "4352/4410 [============================>.] - ETA: 0s[INFO] valid accuracy:  85.7142856954\n",
      "12544/12630 [============================>.] - ETA: 0s[INFO] test accuracy:  85.3760886655\n"
     ]
    }
   ],
   "source": [
    "# lenet_mnist.py - command-line rather than notebook...\n",
    "\n",
    "depth = 1\n",
    "\n",
    "import argparse\n",
    "ap = argparse.ArgumentParser()\n",
    "ap.add_argument(\"-s\", \"--save-model\", type=int, default=-1,\n",
    "                help=\"(optional) whether or note model should be saved to disk\")\n",
    "ap.add_argument(\"-l\", \"--load-model\", type=int, default=-1,\n",
    "               help=\"(optional) whether or not pre-trained model should be loaded\")\n",
    "ap.add_argument(\"-w\", \"--weights\", type=str,\n",
    "               help=\"(optional) path to weights file\")\n",
    "args = vars(ap.parse_args([])) # need [] to avoid error; \"parse\" not notebook-compatible\n",
    "\n",
    "# Initialize optimizer and model\n",
    "print(\"[INFO] compiling model...\")\n",
    "opt = Adam(lr=learning_rate)\n",
    "model = build(width=32, height=32, depth=depth, classes=n_classes,\n",
    "             weights_path=args[\"weights\"] if args[\"load_model\"] > 0 else None) # depth=3 works for color; try None?\n",
    "model.compile(loss=\"categorical_crossentropy\", optimizer=opt,\n",
    "             metrics=[\"accuracy\"])\n",
    "\n",
    "# Only train and evaluate the model if not loading pre-trained model\n",
    "if args[\"load_model\"] < 0:\n",
    "    print(\"[INFO] training...\")\n",
    "    model.fit(trainData, trainLabels, batch_size=batch_size, epochs=n_epochs, verbose=1)\n",
    "    # Show accuracy on valid & test sets\n",
    "    print(\"[INFO] evaluating\")\n",
    "    (loss, accuracy) = model.evaluate(validData, validLabels, batch_size=batch_size, verbose=1)\n",
    "    print(\"[INFO] valid accuracy: \", accuracy*100)\n",
    "    (loss, accuracy) = model.evaluate(testData, testLabels, batch_size=batch_size, verbose=1)\n",
    "    print(\"[INFO] test accuracy: \", accuracy*100)\n",
    "    \n",
    "# Optional save\n",
    "if args[\"save_model\"] > 0:\n",
    "    print(\"[INFO] saving...\")\n",
    "    model.save_weights(args[\"weights\"], overwrite=True)\n",
    "\n",
    "# Save new weights\n",
    "model.save_weights(\"/home/jesse//Documents/Udacity/Drafts/Traffic_Sign/CarND-Traffic-Sign-Classifier-Project/Weights_2.csv\", overwrite=True)\n",
    "\n",
    "\n",
    "# One-Hot Encode Labels\n",
    "#y_train_K = np_utils.to_categorical(y_train_K, 43)\n",
    "#y_test_K = np_utils.to_categorical(y_test_K, 43)"
   ]
  },
  {
   "cell_type": "markdown",
   "metadata": {},
   "source": [
    "### Performance Analysis"
   ]
  },
  {
   "cell_type": "code",
   "execution_count": 143,
   "metadata": {
    "collapsed": true
   },
   "outputs": [],
   "source": [
    "#Subset for performance analysis\n",
    "# define functions, then draw graph of accuracy vs code\n",
    "\n",
    "def evaluate_subset(chosen_label_code = 23,X=trainData,y=trainLabels):\n",
    "    subset_X = []; subset_y=[]\n",
    "    for index, hot_vector in enumerate(y): # trainLabels is one-hot encoded already\n",
    "        if np.argmax(hot_vector) == chosen_label_code:\n",
    "            subset_X.append(X[index])\n",
    "            subset_y.append(y[index])\n",
    "\n",
    "    #print(len(subset_X), len(subset_y))\n",
    "    subset_X_array = np.array(subset_X); subset_y_array = np.array(subset_y)\n",
    "    #print(subset_X_array.shape, subset_y_array.shape)\n",
    "    (loss, accuracy_test) = model.evaluate(subset_X_array, subset_y_array, batch_size=batch_size, verbose=1)\n",
    "    #print(accuracy_test)\n",
    "    return chosen_label_code, accuracy_test"
   ]
  },
  {
   "cell_type": "code",
   "execution_count": 144,
   "metadata": {},
   "outputs": [
    {
     "name": "stdout",
     "output_type": "stream",
     "text": [
      "1910/1910 [==============================] - 1s     \n"
     ]
    },
    {
     "ename": "NameError",
     "evalue": "name 'chosen_label_code' is not defined",
     "output_type": "error",
     "traceback": [
      "\u001b[0;31m---------------------------------------------------------------------------\u001b[0m",
      "\u001b[0;31mNameError\u001b[0m                                 Traceback (most recent call last)",
      "\u001b[0;32m<ipython-input-144-5a3de45e76e4>\u001b[0m in \u001b[0;36m<module>\u001b[0;34m()\u001b[0m\n\u001b[1;32m      1\u001b[0m \u001b[0mevaluate_subset\u001b[0m\u001b[0;34m(\u001b[0m\u001b[0mchosen_label_code\u001b[0m \u001b[0;34m=\u001b[0m \u001b[0;36m42\u001b[0m\u001b[0;34m,\u001b[0m\u001b[0mX\u001b[0m\u001b[0;34m=\u001b[0m\u001b[0mtrainData\u001b[0m\u001b[0;34m,\u001b[0m\u001b[0my\u001b[0m\u001b[0;34m=\u001b[0m\u001b[0mtrainLabels\u001b[0m\u001b[0;34m)\u001b[0m\u001b[0;34m\u001b[0m\u001b[0m\n\u001b[0;32m----> 2\u001b[0;31m \u001b[0mprint\u001b[0m\u001b[0;34m(\u001b[0m\u001b[0mchosen_label_code\u001b[0m\u001b[0;34m,\u001b[0m \u001b[0maccuracy_test\u001b[0m\u001b[0;34m)\u001b[0m\u001b[0;34m\u001b[0m\u001b[0m\n\u001b[0m",
      "\u001b[0;31mNameError\u001b[0m: name 'chosen_label_code' is not defined"
     ]
    }
   ],
   "source": [
    "#evaluate_subset(chosen_label_code = 42,X=trainData,y=trainLabels)\n",
    "#print(chosen_label_code, accuracy_test)"
   ]
  },
  {
   "cell_type": "code",
   "execution_count": 172,
   "metadata": {
    "scrolled": true
   },
   "outputs": [
    {
     "name": "stdout",
     "output_type": "stream",
     "text": [
      "30/30 [==============================] - 0s- ETA: 0s\n",
      "60/60 [==============================] - 0s\n",
      "750/750 [==============================] - 0s     \n",
      "630/630 [==============================] - 0s     \n",
      "60/60 [==============================] - 0s- ETA: 0s\n",
      "1920/1920 [==============================] - 0s     \n",
      "1920/1920 [==============================] - 0s     \n",
      "240/240 [==============================] - 0s     \n",
      "90/90 [==============================] - 0s- ETA: 0s\n",
      "90/90 [==============================] - 0s- ETA: 0s\n",
      "60/60 [==============================] - 0s- ETA: 0s\n",
      "120/120 [==============================] - 0sETA: 0s\n",
      "120/120 [==============================] - 0sETA: 0s\n",
      "30/30 [==============================] - 0s- ETA: 0s\n",
      "60/60 [==============================] - 0s\n",
      "60/60 [==============================] - 0s- ETA: 0s\n",
      "90/90 [==============================] - 0s\n",
      "60/60 [==============================] - 0s- ETA: 0s\n",
      "90/90 [==============================] - 0s\n",
      "60/60 [==============================] - 0s- ETA: 0s\n",
      "120/120 [==============================] - 0s\n",
      "60/60 [==============================] - 0s- ETA: 0s\n",
      "30/30 [==============================] - 0s- ETA: 0s\n",
      "90/90 [==============================] - 0s\n",
      "60/60 [==============================] - 0s- ETA: 0s\n",
      "1910/1910 [==============================] - 0s     \n",
      "30/30 [==============================] - 0s\n",
      "60/60 [==============================] - 0s\n",
      "60/60 [==============================] - 0s- ETA: 0s\n",
      "30/30 [==============================] - 0s- ETA: 0s\n",
      "90/90 [==============================] - 0s\n",
      "60/60 [==============================] - 0s- ETA: 0s\n",
      "90/90 [==============================] - 0s- ETA: 0s\n",
      "1910/1910 [==============================] - 0s     \n",
      "30/30 [==============================] - 0s\n",
      "60/60 [==============================] - 0s\n",
      "90/90 [==============================] - 0s- ETA: 0s\n",
      "60/60 [==============================] - 0s- ETA: 0s\n",
      "120/120 [==============================] - 0s\n",
      "120/120 [==============================] - 0sETA: 0s\n",
      "60/60 [==============================] - 0s- ETA: 0s\n",
      "120/120 [==============================] - 0s\n",
      "30/30 [==============================] - 0s- ETA: 0s\n",
      "60/60 [==============================] - 0s\n",
      "30/30 [==============================] - 0s- ETA: 0s\n",
      "90/90 [==============================] - 0s\n",
      "60/60 [==============================] - 0s- ETA: 0s\n",
      "90/90 [==============================] - 0s\n",
      "1910/1910 [==============================] - 0s     \n",
      "30/30 [==============================] - 0s\n",
      "60/60 [==============================] - 0s\n",
      "1910/1910 [==============================] - 0s     \n",
      "30/30 [==============================] - 0s\n",
      "90/90 [==============================] - 0s\n"
     ]
    },
    {
     "data": {
      "image/png": "[encoded data removed]",
      "text/plain": [
       "<matplotlib.figure.Figure at 0x7faeaca0dcc0>"
      ]
     },
     "metadata": {},
     "output_type": "display_data"
    }
   ],
   "source": [
    "# Analyse performance (default = valid data) - takes a couple of minutes\n",
    "performance_analysis_train = []\n",
    "performance_analysis_valid = []\n",
    "performance_analysis_test = []\n",
    "\n",
    "for i in range(n_classes):\n",
    "    loss, accuracy_test = evaluate_subset(i,trainData,trainLabels)\n",
    "    performance_analysis_train.append((i,accuracy_test))\n",
    "    loss, accuracy_test = evaluate_subset(i,validData,validLabels)\n",
    "    performance_analysis_valid.append((i,accuracy_test))\n",
    "    loss, accuracy_test = evaluate_subset(i,testData,testLabels) # cheating?\n",
    "    performance_analysis_test.append((i,accuracy_test))\n",
    "    \n",
    "# Plot results\n",
    "perf_anal_array_train = np.array(performance_analysis_train)\n",
    "perf_anal_array_valid = np.array(performance_analysis_valid)\n",
    "perf_anal_array_test = np.array(performance_analysis_test)\n",
    "\n",
    "plt.plot(perf_anal_array_train[:,1],'r', label='train')\n",
    "plt.plot(perf_anal_array_valid[:,1],'black', label='valid')\n",
    "plt.plot(perf_anal_array_test[:,1],'green', label='test')\n",
    "plt.title(\"Accuracy (higher is better)\")\n",
    "plt.legend()\n",
    "plt.show()"
   ]
  },
  {
   "cell_type": "code",
   "execution_count": 28,
   "metadata": {},
   "outputs": [
    {
     "name": "stdout",
     "output_type": "stream",
     "text": [
      "0.992445316512\n",
      "0.693037098119\n",
      "0.731311046024\n"
     ]
    }
   ],
   "source": [
    "print(np.mean(perf_anal_array_train[:,1])) #NB unweighted, but should be similar since I've balanced data\n",
    "print(np.mean(perf_anal_array_valid[:,1]))\n",
    "print(np.mean(perf_anal_array_test[:,1]))"
   ]
  },
  {
   "cell_type": "code",
   "execution_count": 100,
   "metadata": {},
   "outputs": [
    {
     "name": "stdout",
     "output_type": "stream",
     "text": [
      "60/60 [==============================] - 0s\n",
      "0.933333337307\n"
     ]
    }
   ],
   "source": [
    "# Bespoke Accuracy\n",
    "# Train=0.9841, test=0.8138\n",
    "\n",
    "(loss, accuracy_test) = model.evaluate(subset_X_array, subset_y_array, batch_size=batch_size, verbose=1)\n",
    "print(accuracy_test)\n",
    "#(loss, accuracy_test) = model.evaluate(generated_image_array, np_utils.to_categorical(gen_labels_array), batch_size=batch_size, verbose=1)\n",
    "#print(accuracy_test)"
   ]
  },
  {
   "cell_type": "code",
   "execution_count": 98,
   "metadata": {},
   "outputs": [
    {
     "name": "stdout",
     "output_type": "stream",
     "text": [
      "4410/4410 [==============================] - 9s     \n",
      "0.808843540699\n"
     ]
    }
   ],
   "source": [
    "# Valid Accuracy 0.8088\n",
    "validData = X_valid\n",
    "validLabels = np_utils.to_categorical(y_valid, 43)\n",
    "(loss, accuracy_valid) = model.evaluate(validData, validLabels, batch_size=batch_size, verbose=1)\n",
    "print(accuracy_valid)"
   ]
  },
  {
   "cell_type": "code",
   "execution_count": 101,
   "metadata": {},
   "outputs": [
    {
     "name": "stdout",
     "output_type": "stream",
     "text": [
      "81.3776722005 %\n",
      "[INFO] valid accuracy:  81.3776722005\n"
     ]
    }
   ],
   "source": [
    "print(accuracy*100, \"%\")\n",
    "print(\"[INFO] valid accuracy: \", accuracy*100)"
   ]
  },
  {
   "cell_type": "markdown",
   "metadata": {},
   "source": [
    "## Iterations Log\n",
    "\n",
    "CNN20, CNN50, FC128-64-43. Merged data. Un-processed. No dropout.\n",
    "    \n",
    "1. 99.13,79,80 with new architecure (new FC layer, slightly changed nos), no pre-processing, jittered data\n",
    "2. With all pre-processing: 80,40,37 - overfits for labels in 20s and 30s - this suggests making gen data more realistic and varied\n",
    "\n",
    "CNN16, CNN32, D(0.7), FC128-64-43. Processed. Credit Medium.\n",
    "\n",
    "1. With same gen data (half parameters), new archi and processed:\n",
    "    0. Stuck at 2%!\n",
    "2. Without dropout 29/12/17\n",
    "    0. 69, 26, 25\n",
    "    \n",
    "CNN16, CNN32, FC128-64-43. Original data only, Un-pre-processed, no dropout.\n",
    "1. 94, 79, 80 - not even learning to predict its own data. Having bigger Conv layers seemed to be better - let's confirm with all else equal.\n",
    "2. 90s per epoch!\n",
    "\n",
    "CNN20, CNN50, FC128-64-43. Original data only. Un-processed. No dropout.\n",
    "1. 97, 80, 80\n",
    "2. 150s per epoch\n",
    "\n",
    "CNN20, CNN50, FC128-64-43. Original data only. Un-processed. No dropout. Adam instead of SGD. bacth 256\n",
    "0. 98.62, 83.2, 83.7\n",
    "1. Much faster. 80pc by epoch 2.\n",
    "2. 137s an' all.\n",
    "3. Interestingly, didn't do quite as well on training data but generalises better.\n",
    "4. Weights saved as Weights.csv.\n",
    "\n",
    "CNN16, CNN64, CNN256, FC256-128-43. Original data only. Un-processed. No dropout. Adam.\n",
    "1. Stuck at 4.7%! Too big a machine (without skips or something).\n",
    "\n",
    "CNN6, CNN16, FC128-64-43. batch 128\n",
    "1. 98.25, 84.648, 84.972\n",
    "2. Accuracy_breakdown_3.png\n",
    "\n",
    "CNN6, CNN16, FC128-64-43. batch 128 - merged data\n",
    "1. 98.95, 84.2, 83.0\n",
    "2. 112s/epoch\n",
    "3. Accuracy_breakdown_4.png\n",
    "\n",
    "CNN6, CNN16, FC128-64-43. batch 128 - merged data + gray\n",
    "0. 92, 49, 48\n",
    "1. Much slower epoch 1 but good epoch 2\n",
    "2. 80s\n",
    "3. Why does uniform pre-processing worsen accuracy and generalizability?\n",
    "\n",
    "CNN6, CNN16, FC128-64-43. batch 128 - merged data + manual-gray\n",
    "1. 99.0, 85.6, 84.4\n",
    "\n",
    "CNN6, CNN16, FC128-64-43. batch 128 - merged data + manual-gray + manual-normalize\n",
    "1. 99.45, 85.7, 85.4\n",
    "\n",
    "Later: skip connection (don't use Sequential)."
   ]
  },
  {
   "cell_type": "markdown",
   "metadata": {},
   "source": [
    "---\n",
    "\n",
    "## Step 3: Test a Model on New Images\n",
    "\n",
    "To give yourself more insight into how your model is working, download at least five pictures of German traffic signs from the web and use your model to predict the traffic sign type.\n",
    "\n",
    "You may find `signnames.csv` useful as it contains mappings from the class id (integer) to the actual sign name."
   ]
  },
  {
   "cell_type": "markdown",
   "metadata": {},
   "source": [
    "### Load and Output the Images"
   ]
  },
  {
   "cell_type": "code",
   "execution_count": null,
   "metadata": {
    "collapsed": true
   },
   "outputs": [],
   "source": [
    "### Load the images and plot them here.\n",
    "### Feel free to use as many code cells as needed."
   ]
  },
  {
   "cell_type": "markdown",
   "metadata": {},
   "source": [
    "### Predict the Sign Type for Each Image"
   ]
  },
  {
   "cell_type": "code",
   "execution_count": 3,
   "metadata": {
    "collapsed": true
   },
   "outputs": [],
   "source": [
    "### Run the predictions here and use the model to output the prediction for each image.\n",
    "### Make sure to pre-process the images with the same pre-processing pipeline used earlier.\n",
    "### Feel free to use as many code cells as needed."
   ]
  },
  {
   "cell_type": "markdown",
   "metadata": {},
   "source": [
    "### Analyze Performance"
   ]
  },
  {
   "cell_type": "code",
   "execution_count": 4,
   "metadata": {
    "collapsed": true
   },
   "outputs": [],
   "source": [
    "### Calculate the accuracy for these 5 new images. \n",
    "### For example, if the model predicted 1 out of 5 signs correctly, it's 20% accurate on these new images."
   ]
  },
  {
   "cell_type": "markdown",
   "metadata": {},
   "source": [
    "### Output Top 5 Softmax Probabilities For Each Image Found on the Web"
   ]
  },
  {
   "cell_type": "markdown",
   "metadata": {},
   "source": [
    "For each of the new images, print out the model's softmax probabilities to show the **certainty** of the model's predictions (limit the output to the top 5 probabilities for each image). [`tf.nn.top_k`](https://www.tensorflow.org/versions/r0.12/api_docs/python/nn.html#top_k) could prove helpful here. \n",
    "\n",
    "The example below demonstrates how tf.nn.top_k can be used to find the top k predictions for each image.\n",
    "\n",
    "`tf.nn.top_k` will return the values and indices (class ids) of the top k predictions. So if k=3, for each sign, it'll return the 3 largest probabilities (out of a possible 43) and the correspoding class ids.\n",
    "\n",
    "Take this numpy array as an example. The values in the array represent predictions. The array contains softmax probabilities for five candidate images with six possible classes. `tf.nn.top_k` is used to choose the three classes with the highest probability:\n",
    "\n",
    "```\n",
    "# (5, 6) array\n",
    "a = np.array([[ 0.24879643,  0.07032244,  0.12641572,  0.34763842,  0.07893497,\n",
    "         0.12789202],\n",
    "       [ 0.28086119,  0.27569815,  0.08594638,  0.0178669 ,  0.18063401,\n",
    "         0.15899337],\n",
    "       [ 0.26076848,  0.23664738,  0.08020603,  0.07001922,  0.1134371 ,\n",
    "         0.23892179],\n",
    "       [ 0.11943333,  0.29198961,  0.02605103,  0.26234032,  0.1351348 ,\n",
    "         0.16505091],\n",
    "       [ 0.09561176,  0.34396535,  0.0643941 ,  0.16240774,  0.24206137,\n",
    "         0.09155967]])\n",
    "```\n",
    "\n",
    "Running it through `sess.run(tf.nn.top_k(tf.constant(a), k=3))` produces:\n",
    "\n",
    "```\n",
    "TopKV2(values=array([[ 0.34763842,  0.24879643,  0.12789202],\n",
    "       [ 0.28086119,  0.27569815,  0.18063401],\n",
    "       [ 0.26076848,  0.23892179,  0.23664738],\n",
    "       [ 0.29198961,  0.26234032,  0.16505091],\n",
    "       [ 0.34396535,  0.24206137,  0.16240774]]), indices=array([[3, 0, 5],\n",
    "       [0, 1, 4],\n",
    "       [0, 5, 1],\n",
    "       [1, 3, 5],\n",
    "       [1, 4, 3]], dtype=int32))\n",
    "```\n",
    "\n",
    "Looking just at the first row we get `[ 0.34763842,  0.24879643,  0.12789202]`, you can confirm these are the 3 largest probabilities in `a`. You'll also notice `[3, 0, 5]` are the corresponding indices."
   ]
  },
  {
   "cell_type": "code",
   "execution_count": 3,
   "metadata": {
    "collapsed": true
   },
   "outputs": [],
   "source": [
    "### Print out the top five softmax probabilities for the predictions on the German traffic sign images found on the web. \n",
    "### Feel free to use as many code cells as needed."
   ]
  },
  {
   "cell_type": "markdown",
   "metadata": {},
   "source": [
    "### Project Writeup\n",
    "\n",
    "Once you have completed the code implementation, document your results in a project writeup using this [template](https://github.com/udacity/CarND-Traffic-Sign-Classifier-Project/blob/master/writeup_template.md) as a guide. The writeup can be in a markdown or pdf file. "
   ]
  },
  {
   "cell_type": "markdown",
   "metadata": {},
   "source": [
    "> **Note**: Once you have completed all of the code implementations and successfully answered each question above, you may finalize your work by exporting the iPython Notebook as an HTML document. You can do this by using the menu above and navigating to  \\n\",\n",
    "    \"**File -> Download as -> HTML (.html)**. Include the finished document along with this notebook as your submission."
   ]
  },
  {
   "cell_type": "markdown",
   "metadata": {},
   "source": [
    "---\n",
    "\n",
    "## Step 4 (Optional): Visualize the Neural Network's State with Test Images\n",
    "\n",
    " This Section is not required to complete but acts as an additional excersise for understaning the output of a neural network's weights. While neural networks can be a great learning device they are often referred to as a black box. We can understand what the weights of a neural network look like better by plotting their feature maps. After successfully training your neural network you can see what it's feature maps look like by plotting the output of the network's weight layers in response to a test stimuli image. From these plotted feature maps, it's possible to see what characteristics of an image the network finds interesting. For a sign, maybe the inner network feature maps react with high activation to the sign's boundary outline or to the contrast in the sign's painted symbol.\n",
    "\n",
    " Provided for you below is the function code that allows you to get the visualization output of any tensorflow weight layer you want. The inputs to the function should be a stimuli image, one used during training or a new one you provided, and then the tensorflow variable name that represents the layer's state during the training process, for instance if you wanted to see what the [LeNet lab's](https://classroom.udacity.com/nanodegrees/nd013/parts/fbf77062-5703-404e-b60c-95b78b2f3f9e/modules/6df7ae49-c61c-4bb2-a23e-6527e69209ec/lessons/601ae704-1035-4287-8b11-e2c2716217ad/concepts/d4aca031-508f-4e0b-b493-e7b706120f81) feature maps looked like for it's second convolutional layer you could enter conv2 as the tf_activation variable.\n",
    "\n",
    "For an example of what feature map outputs look like, check out NVIDIA's results in their paper [End-to-End Deep Learning for Self-Driving Cars](https://devblogs.nvidia.com/parallelforall/deep-learning-self-driving-cars/) in the section Visualization of internal CNN State. NVIDIA was able to show that their network's inner weights had high activations to road boundary lines by comparing feature maps from an image with a clear path to one without. Try experimenting with a similar test to show that your trained network's weights are looking for interesting features, whether it's looking at differences in feature maps from images with or without a sign, or even what feature maps look like in a trained network vs a completely untrained one on the same sign image.\n",
    "\n",
    "<figure>\n",
    " <img src=\"visualize_cnn.png\" width=\"380\" alt=\"Combined Image\" />\n",
    " <figcaption>\n",
    " <p></p> \n",
    " <p style=\"text-align: center;\"> Your output should look something like this (above)</p> \n",
    " </figcaption>\n",
    "</figure>\n",
    " <p></p> \n"
   ]
  },
  {
   "cell_type": "code",
   "execution_count": 40,
   "metadata": {
    "collapsed": true
   },
   "outputs": [],
   "source": [
    "### Visualize your network's feature maps here.\n",
    "### Feel free to use as many code cells as needed.\n",
    "\n",
    "# image_input: the test image being fed into the network to produce the feature maps\n",
    "# tf_activation: should be a tf variable name used during your training procedure that represents the calculated state of a specific weight layer\n",
    "# activation_min/max: can be used to view the activation contrast in more detail, by default matplot sets min and max to the actual min and max values of the output\n",
    "# plt_num: used to plot out multiple different weight feature map sets on the same block, just extend the plt number for each new feature map entry\n",
    "\n",
    "def outputFeatureMap(image_input, tf_activation, activation_min=-1, activation_max=-1 ,plt_num=1):\n",
    "    # Here make sure to preprocess your image_input in a way your network expects\n",
    "    # with size, normalization, ect if needed\n",
    "    # image_input =\n",
    "    # Note: x should be the same name as your network's tensorflow data placeholder variable\n",
    "    # If you get an error tf_activation is not defined it may be having trouble accessing the variable from inside a function\n",
    "    activation = tf_activation.eval(session=sess,feed_dict={x : image_input})\n",
    "    featuremaps = activation.shape[3]\n",
    "    plt.figure(plt_num, figsize=(15,15))\n",
    "    for featuremap in range(featuremaps):\n",
    "        plt.subplot(6,8, featuremap+1) # sets the number of feature maps to show on each row and column\n",
    "        plt.title('FeatureMap ' + str(featuremap)) # displays the feature map number\n",
    "        if activation_min != -1 & activation_max != -1:\n",
    "            plt.imshow(activation[0,:,:, featuremap], interpolation=\"nearest\", vmin =activation_min, vmax=activation_max, cmap=\"gray\")\n",
    "        elif activation_max != -1:\n",
    "            plt.imshow(activation[0,:,:, featuremap], interpolation=\"nearest\", vmax=activation_max, cmap=\"gray\")\n",
    "        elif activation_min !=-1:\n",
    "            plt.imshow(activation[0,:,:, featuremap], interpolation=\"nearest\", vmin=activation_min, cmap=\"gray\")\n",
    "        else:\n",
    "            plt.imshow(activation[0,:,:, featuremap], interpolation=\"nearest\", cmap=\"gray\")"
   ]
  },
  {
   "cell_type": "code",
   "execution_count": null,
   "metadata": {
    "collapsed": true
   },
   "outputs": [],
   "source": []
  }
 ],
 "metadata": {
  "anaconda-cloud": {},
  "kernelspec": {
   "display_name": "Python 3",
   "language": "python",
   "name": "python3"
  },
  "language_info": {
   "codemirror_mode": {
    "name": "ipython",
    "version": 3
   },
   "file_extension": ".py",
   "mimetype": "text/x-python",
   "name": "python",
   "nbconvert_exporter": "python",
   "pygments_lexer": "ipython3",
   "version": "3.6.3"
  }
 },
 "nbformat": 4,
 "nbformat_minor": 1
}
