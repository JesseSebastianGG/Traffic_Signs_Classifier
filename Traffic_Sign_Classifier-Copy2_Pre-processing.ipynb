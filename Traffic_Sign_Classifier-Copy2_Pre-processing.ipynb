{
 "cells": [
  {
   "cell_type": "markdown",
   "metadata": {},
   "source": [
    "# Self-Driving Car Engineer Nanodegree\n",
    "\n",
    "## Deep Learning\n",
    "\n",
    "## Project: Build a Traffic Sign Recognition Classifier\n",
    "\n",
    "In this notebook, a template is provided for you to implement your functionality in stages, which is required to successfully complete this project. If additional code is required that cannot be included in the notebook, be sure that the Python code is successfully imported and included in your submission if necessary. \n",
    "\n",
    "> **Note**: Once you have completed all of the code implementations, you need to finalize your work by exporting the iPython Notebook as an HTML document. Before exporting the notebook to html, all of the code cells need to have been run so that reviewers can see the final implementation and output. You can then export the notebook by using the menu above and navigating to  \\n\",\n",
    "    \"**File -> Download as -> HTML (.html)**. Include the finished document along with this notebook as your submission. \n",
    "\n",
    "In addition to implementing code, there is a writeup to complete. The writeup should be completed in a separate file, which can be either a markdown file or a pdf document. There is a [write up template](https://github.com/udacity/CarND-Traffic-Sign-Classifier-Project/blob/master/writeup_template.md) that can be used to guide the writing process. Completing the code template and writeup template will cover all of the [rubric points](https://review.udacity.com/#!/rubrics/481/view) for this project.\n",
    "\n",
    "The [rubric](https://review.udacity.com/#!/rubrics/481/view) contains \"Stand Out Suggestions\" for enhancing the project beyond the minimum requirements. The stand out suggestions are optional. If you decide to pursue the \"stand out suggestions\", you can include the code in this Ipython notebook and also discuss the results in the writeup file.\n",
    "\n",
    "\n",
    ">**Note:** Code and Markdown cells can be executed using the **Shift + Enter** keyboard shortcut. In addition, Markdown cells can be edited by typically double-clicking the cell to enter edit mode."
   ]
  },
  {
   "cell_type": "markdown",
   "metadata": {},
   "source": [
    "---\n",
    "## Step 0: Load The Data"
   ]
  },
  {
   "cell_type": "code",
   "execution_count": 4,
   "metadata": {
    "collapsed": true
   },
   "outputs": [],
   "source": [
    "# Load pickled data\n",
    "import pickle\n",
    "\n",
    "# TODO: Fill this in based on where you saved the training and testing data\n",
    "\n",
    "training_file =  '/home/jesse/Downloads/traffic_signs_data/train.p' # NB read only default\n",
    "validation_file= '/home/jesse/Downloads/traffic_signs_data/valid.p'\n",
    "testing_file =   '/home/jesse/Downloads/traffic_signs_data/test.p'\n",
    "\n",
    "with open(training_file, mode='rb') as f: # mode Read Binary\n",
    "    train = pickle.load(f)\n",
    "with open(validation_file, mode='rb') as f:\n",
    "    valid = pickle.load(f)\n",
    "with open(testing_file, mode='rb') as f:\n",
    "    test = pickle.load(f)\n",
    "    \n",
    "X_train, y_train = train['features'], train['labels']\n",
    "X_valid, y_valid = valid['features'], valid['labels']\n",
    "X_test, y_test = test['features'], test['labels']"
   ]
  },
  {
   "cell_type": "markdown",
   "metadata": {},
   "source": [
    "---\n",
    "\n",
    "## Step 1: Dataset Summary & Exploration\n",
    "\n",
    "The pickled data is a dictionary with 4 key/value pairs:\n",
    "\n",
    "- `'features'` is a 4D array containing raw pixel data of the traffic sign images, (num examples, width, height, channels).\n",
    "- `'labels'` is a 1D array containing the label/class id of the traffic sign. The file `signnames.csv` contains id -> name mappings for each id.\n",
    "- `'sizes'` is a list containing tuples, (width, height) representing the original width and height the image.\n",
    "- `'coords'` is a list containing tuples, (x1, y1, x2, y2) representing coordinates of a bounding box around the sign in the image. **THESE COORDINATES ASSUME THE ORIGINAL IMAGE. THE PICKLED DATA CONTAINS RESIZED VERSIONS (32 by 32) OF THESE IMAGES**\n",
    "\n",
    "Complete the basic data summary below. Use python, numpy and/or pandas methods to calculate the data summary rather than hard coding the results. For example, the [pandas shape method](http://pandas.pydata.org/pandas-docs/stable/generated/pandas.DataFrame.shape.html) might be useful for calculating some of the summary results. "
   ]
  },
  {
   "cell_type": "markdown",
   "metadata": {},
   "source": [
    "### 1.1 Provide a Basic Summary of the Data Set Using Python, Numpy and/or Pandas"
   ]
  },
  {
   "cell_type": "code",
   "execution_count": 6,
   "metadata": {},
   "outputs": [
    {
     "name": "stdout",
     "output_type": "stream",
     "text": [
      "Number of training examples = 34799\n",
      "Number of testing examples = 12630\n",
      "Image data shape = (32, 32, 3)\n",
      "Number of classes = 43\n"
     ]
    }
   ],
   "source": [
    "### Replace each question mark with the appropriate value. \n",
    "### Use python, pandas or numpy methods rather than hard coding the results\n",
    "\n",
    "import numpy as np\n",
    "import pandas as pd\n",
    "\n",
    "# TODO: Number of training examples\n",
    "n_train = X_train.shape[0]\n",
    "\n",
    "# TODO: Number of validation examples\n",
    "n_validation = X_valid.shape[0]\n",
    "\n",
    "# TODO: Number of testing examples.\n",
    "n_test = X_test.shape[0]\n",
    "\n",
    "# TODO: What's the shape of an traffic sign image?\n",
    "image_shape = X_train.shape[1:4] # index multiple dims - from 1 incl to 4 excl\n",
    "\n",
    "# TODO: How many unique classes/labels there are in the dataset.\n",
    "n_classes = len(set(y_train))\n",
    "\n",
    "print(\"Number of training examples =\", n_train)\n",
    "print(\"Number of testing examples =\", n_test)\n",
    "print(\"Image data shape =\", image_shape)\n",
    "print(\"Number of classes =\", n_classes)"
   ]
  },
  {
   "cell_type": "markdown",
   "metadata": {},
   "source": [
    "### 1.2 Include an exploratory visualization of the dataset"
   ]
  },
  {
   "cell_type": "markdown",
   "metadata": {},
   "source": [
    "Visualize the German Traffic Signs Dataset using the pickled file(s). This is open ended, suggestions include: plotting traffic sign images, plotting the count of each sign, etc. \n",
    "\n",
    "The [Matplotlib](http://matplotlib.org/) [examples](http://matplotlib.org/examples/index.html) and [gallery](http://matplotlib.org/gallery.html) pages are a great resource for doing visualizations in Python.\n",
    "\n",
    "**NOTE:** It's recommended you start with something simple first. If you wish to do more, come back to it after you've completed the rest of the sections. It can be interesting to look at the distribution of classes in the training, validation and test set. Is the distribution the same? Are there more examples of some classes than others?"
   ]
  },
  {
   "cell_type": "code",
   "execution_count": 7,
   "metadata": {
    "scrolled": true
   },
   "outputs": [
    {
     "data": {
      "image/png": "[encoded data removed]",
      "text/plain": [
       "<matplotlib.figure.Figure at 0x7f4f52106dd8>"
      ]
     },
     "metadata": {},
     "output_type": "display_data"
    },
    {
     "data": {
      "text/plain": [
       "(15.738297077502228, 12.002396466891161)"
      ]
     },
     "execution_count": 7,
     "metadata": {},
     "output_type": "execute_result"
    }
   ],
   "source": [
    "### Data exploration visualization code goes here.\n",
    "### Feel free to use as many code cells as needed.\n",
    "import matplotlib.pyplot as plt\n",
    "# Visualizations will be shown in the notebook.\n",
    "%matplotlib inline\n",
    "\n",
    "\n",
    "# Plot Histograms of 3 data sets (labels - distribution looks the same)\n",
    "plt.hist(y_train, bins=43, color='black', label=\"train\")\n",
    "plt.hist(y_test, bins=43, color='gray', label=\"test\")\n",
    "plt.hist(y_valid, bins=43, color='g', label=\"valid\")\n",
    "plt.title(\"Label Distributions\")\n",
    "plt.legend()\n",
    "plt.tight_layout()\n",
    "plt.show()\n",
    "\n",
    "# verify with eg % distribution - needs operation\n",
    "#train_valid = y_train/y_valid\n",
    "#train_test = y_train/y_test\n",
    "#test_valid = y_test/y_valid\n",
    "\n",
    "#\n",
    "np.mean(y_train), np.std(y_train)"
   ]
  },
  {
   "cell_type": "markdown",
   "metadata": {},
   "source": [
    "#### Observations\n",
    "\n",
    "There appears to be valid-train-test homogeneity (ebi confirm numerically).\n",
    "\n",
    "However some signs are much more common than others. Speed limit signs are generally (but not uniformly) over-represented. Lots of important signs are under-represented (danger children etc).\n",
    "\n",
    "This heterogeneity is most extreme in the training set and smoothed out for validation. The test set appears somewhere in the middle. This will impact learning later on unless artificial data are generated (eg with augmentation)."
   ]
  },
  {
   "cell_type": "markdown",
   "metadata": {},
   "source": [
    "#### Examine labels"
   ]
  },
  {
   "cell_type": "code",
   "execution_count": 4,
   "metadata": {
    "scrolled": true
   },
   "outputs": [
    {
     "name": "stdout",
     "output_type": "stream",
     "text": [
      "[['ClassId' 'SignName']\n",
      " ['0' 'Speed limit (20km/h)']\n",
      " ['1' 'Speed limit (30km/h)']\n",
      " ['2' 'Speed limit (50km/h)']\n",
      " ['3' 'Speed limit (60km/h)']\n",
      " ['4' 'Speed limit (70km/h)']\n",
      " ['5' 'Speed limit (80km/h)']\n",
      " ['6' 'End of speed limit (80km/h)']\n",
      " ['7' 'Speed limit (100km/h)']\n",
      " ['8' 'Speed limit (120km/h)']\n",
      " ['9' 'No passing']\n",
      " ['10' 'No passing for vehicles over 3.5 metric tons']\n",
      " ['11' 'Right-of-way at the next intersection']\n",
      " ['12' 'Priority road']\n",
      " ['13' 'Yield']\n",
      " ['14' 'Stop']\n",
      " ['15' 'No vehicles']\n",
      " ['16' 'Vehicles over 3.5 metric tons prohibited']\n",
      " ['17' 'No entry']\n",
      " ['18' 'General caution']\n",
      " ['19' 'Dangerous curve to the left']\n",
      " ['20' 'Dangerous curve to the right']\n",
      " ['21' 'Double curve']\n",
      " ['22' 'Bumpy road']\n",
      " ['23' 'Slippery road']\n",
      " ['24' 'Road narrows on the right']\n",
      " ['25' 'Road work']\n",
      " ['26' 'Traffic signals']\n",
      " ['27' 'Pedestrians']\n",
      " ['28' 'Children crossing']\n",
      " ['29' 'Bicycles crossing']\n",
      " ['30' 'Beware of ice/snow']\n",
      " ['31' 'Wild animals crossing']\n",
      " ['32' 'End of all speed and passing limits']\n",
      " ['33' 'Turn right ahead']\n",
      " ['34' 'Turn left ahead']\n",
      " ['35' 'Ahead only']\n",
      " ['36' 'Go straight or right']\n",
      " ['37' 'Go straight or left']\n",
      " ['38' 'Keep right']\n",
      " ['39' 'Keep left']\n",
      " ['40' 'Roundabout mandatory']\n",
      " ['41' 'End of no passing']\n",
      " ['42' 'End of no passing by vehicles over 3.5 metric tons']]\n"
     ]
    }
   ],
   "source": [
    "# Decode\n",
    "signnames = np.loadtxt('signnames.csv', dtype=str, delimiter=',')\n",
    "signnames.dtype\n",
    "print(signnames)"
   ]
  },
  {
   "cell_type": "markdown",
   "metadata": {},
   "source": [
    "----\n",
    "\n",
    "## Step 2: Design and Test a Model Architecture\n",
    "\n",
    "Design and implement a deep learning model that learns to recognize traffic signs. Train and test your model on the [German Traffic Sign Dataset](http://benchmark.ini.rub.de/?section=gtsrb&subsection=dataset).\n",
    "\n",
    "The LeNet-5 implementation shown in the [classroom](https://classroom.udacity.com/nanodegrees/nd013/parts/fbf77062-5703-404e-b60c-95b78b2f3f9e/modules/6df7ae49-c61c-4bb2-a23e-6527e69209ec/lessons/601ae704-1035-4287-8b11-e2c2716217ad/concepts/d4aca031-508f-4e0b-b493-e7b706120f81) at the end of the CNN lesson is a solid starting point. You'll have to change the number of classes and possibly the preprocessing, but aside from that it's plug and play! \n",
    "\n",
    "With the LeNet-5 solution from the lecture, you should expect a validation set accuracy of about 0.89. To meet specifications, the validation set accuracy will need to be at least 0.93. It is possible to get an even higher accuracy, but 0.93 is the minimum for a successful project submission. \n",
    "\n",
    "There are various aspects to consider when thinking about this problem:\n",
    "\n",
    "- Neural network architecture (is the network over or underfitting?)\n",
    "- Play around preprocessing techniques (normalization, rgb to grayscale, etc)\n",
    "- Number of examples per label (some have more than others).\n",
    "- Generate fake data.\n",
    "\n",
    "Here is an example of a [published baseline model on this problem](http://yann.lecun.com/exdb/publis/pdf/sermanet-ijcnn-11.pdf). It's not required to be familiar with the approach used in the paper but, it's good practice to try to read papers like these."
   ]
  },
  {
   "cell_type": "markdown",
   "metadata": {},
   "source": [
    "### 2.1 Pre-process the Data Set (normalization, grayscale, etc.)"
   ]
  },
  {
   "cell_type": "markdown",
   "metadata": {},
   "source": [
    "Minimally, the image data should be normalized so that the data has mean zero and equal variance. For image data, `(pixel - 128)/ 128` is a quick way to approximately normalize the data and can be used in this project. \n",
    "\n",
    "Other pre-processing steps are optional. You can try different techniques to see if it improves performance. \n",
    "\n",
    "Use the code cell (or multiple code cells, if necessary) to implement the first step of your project."
   ]
  },
  {
   "cell_type": "markdown",
   "metadata": {},
   "source": [
    "#### Helper functions"
   ]
  },
  {
   "cell_type": "code",
   "execution_count": 8,
   "metadata": {
    "collapsed": true
   },
   "outputs": [],
   "source": [
    "### Preprocess the data here. It is required to normalize the data. Other preprocessing steps could include \n",
    "### converting to grayscale, etc.\n",
    "### Feel free to use as many code cells as needed.\n",
    "\n",
    "import cv2\n",
    "# Convert to grayscale\n",
    "def gray(img):\n",
    "    img_ = img.astype(np.uint8)\n",
    "    gray = cv2.cvtColor(img_, cv2.COLOR_RGB2GRAY)\n",
    "    gray_ = gray.astype(np.uint8)\n",
    "    return gray_\n",
    "\n",
    "# Credit Medium piece on this project\n",
    "# Convert grayscale to histogram equalise using cv2\n",
    "\n",
    "def equalize(img):\n",
    "    img_=img.astype(np.uint8)\n",
    "    equal = cv2.equalizeHist(img_)\n",
    "    return equal\n",
    "\n",
    "def norm_basic(img): # why doesn't this do what I want? outputs b/w image\n",
    "    out = ((img-128)/128).astype(np.uint8)\n",
    "    return (out)\n",
    "\n",
    "def merge(img_1, alpha, img_2, beta, gamma=0):\n",
    "    out = cv2.addWeighted(img_1, alpha, img_2, beta, gamma)\n",
    "    return out\n",
    "\n",
    "def add_Gauss_noise(img, color=True, rate=0.1):\n",
    "    '''\n",
    "    Adds rate*noise to (1-rate)*img; returns a blend. Enter color=False for grayscale image.\n",
    "    '''\n",
    "    np.random.seed(seed=32)\n",
    "    ones = np.ones_like(img)\n",
    "    if color:\n",
    "        noise = (np.random.randn(ones.shape[0], ones.shape[1], ones.shape[2])*128+128).astype(np.uint8)\n",
    "    else:\n",
    "        noise = (np.random.randn(ones.shape[0])*128+128).astype(np.uint8)\n",
    "    merged = merge(img_1=img, alpha=1-rate, img_2=noise, beta=rate, gamma=0)\n",
    "    return merged\n"
   ]
  },
  {
   "cell_type": "code",
   "execution_count": 9,
   "metadata": {},
   "outputs": [
    {
     "data": {
      "image/png": "[encoded data removed]",
      "text/plain": [
       "<matplotlib.figure.Figure at 0x7f4f48b9ec18>"
      ]
     },
     "metadata": {},
     "output_type": "display_data"
    }
   ],
   "source": [
    "# Visualization of Noise-Adding Process\n",
    "\n",
    "img = X_train[0]\n",
    "ones = np.ones_like(img)\n",
    "if len(img.shape)==3:\n",
    "    color=True\n",
    "else:\n",
    "    color=False\n",
    "seed=32\n",
    "np.random.seed(seed=seed)\n",
    "if color:\n",
    "    noise = (np.random.randn(ones.shape[0], ones.shape[1], ones.shape[2])*128+128).astype(np.uint8)\n",
    "else:\n",
    "    noise = (np.random.randn(ones.shape[0])*128+128).astype(np.uint8)\n",
    "rate=0.1\n",
    "merged = merge(img_1=img, alpha=1-rate, img_2=noise, beta=rate, gamma=0)\n",
    "\n",
    "\n",
    "fig = plt.figure(figsize=(15,15))\n",
    "\n",
    "pic_1 = img\n",
    "a = fig.add_subplot(141)\n",
    "a.set_title('Original')\n",
    "plt.imshow(pic_1)\n",
    "\n",
    "pic_2 = noise # already uint8\n",
    "a = fig.add_subplot(142)\n",
    "a.set_title('Noise')\n",
    "plt.imshow(pic_2)\n",
    "\n",
    "pic_3 = merged\n",
    "a = fig.add_subplot(143)\n",
    "a.set_title('Merged')\n",
    "plt.imshow(pic_3)\n",
    "\n",
    "pic_4 = add_Gauss_noise(img)\n",
    "a= fig.add_subplot(144)\n",
    "a.set_title('Test function')\n",
    "plt.imshow(pic_4)\n",
    "\n",
    "plt.tight_layout()\n",
    "plt.show()"
   ]
  },
  {
   "cell_type": "code",
   "execution_count": 10,
   "metadata": {
    "collapsed": true,
    "scrolled": true
   },
   "outputs": [],
   "source": [
    "# Visualization of Graying Process\n",
    "\n",
    "def viz(index=0):\n",
    "    fig = plt.figure(figsize=(15,10))\n",
    "\n",
    "    img_1 = X_test[index]\n",
    "    a = fig.add_subplot(321)\n",
    "    a.set_title('Original')\n",
    "    plt.imshow(img_1)\n",
    "\n",
    "    img_2 = norm_basic(img_1)\n",
    "    a = fig.add_subplot(322)\n",
    "    a.set_title('Normalised')\n",
    "    plt.imshow(img_2)\n",
    "\n",
    "    img_3 = gray(img_1).astype(np.uint8)\n",
    "    a = fig.add_subplot(323)\n",
    "    a.set_title('Gray')\n",
    "    plt.imshow(img_3,cmap='gray')\n",
    "\n",
    "    img_4 = gray(img_2).astype(np.uint8)\n",
    "    a = fig.add_subplot(324)\n",
    "    a.set_title('Norm_Gray')\n",
    "    plt.imshow(img_4,cmap='gray')\n",
    "    \n",
    "    img_5 = equalize(img_3)\n",
    "    a = fig.add_subplot(325)\n",
    "    a.set_title('gray_equalized')\n",
    "    plt.imshow(img_5, cmap='gray')\n",
    "    \n",
    "    test = norm_basic(img_5)\n",
    "    test = test.astype(np.uint8)\n",
    "    a = fig.add_subplot(326)\n",
    "    a.set_title('gr_eq_norm')\n",
    "    plt.imshow(test, cmap='gray')\n",
    "    \n",
    "    plt.tight_layout()\n",
    "    plt.show()\n",
    "#viz(100)"
   ]
  },
  {
   "cell_type": "markdown",
   "metadata": {},
   "source": [
    "#### Perform Preprocessing"
   ]
  },
  {
   "cell_type": "code",
   "execution_count": 30,
   "metadata": {
    "collapsed": true
   },
   "outputs": [],
   "source": [
    "# Convert dataset\n",
    "\n",
    "# First get originals\n",
    "X_train, y_train = train['features'], train['labels']\n",
    "X_valid, y_valid = valid['features'], valid['labels']\n",
    "X_test, y_test = test['features'], test['labels']\n",
    "\n",
    "image_cached_before = X_train[1100].copy()\n",
    "\n",
    "# Define pre-processing function\n",
    "def pre_process(image):\n",
    "    \n",
    "    #image = add_Gauss_noise(image)\n",
    "    #image = gray(image) # 98,80,80\n",
    "    #image = equalize(image) # 98,80,80\n",
    "    image = (image-128)/128 # 98,82,85; NB norm_basic(image) - fails, still not sure why but converts to b/w\n",
    "    #image = image-np.mean(image) # subtract 128? #NB should equalize happen second?\n",
    "    \n",
    "    return image\n",
    "\n",
    "# Then apply processing image by image\n",
    "datasets = [X_train,X_valid,X_test]\n",
    "for dataset in datasets:\n",
    "    for image in dataset:\n",
    "        # image = pre_process(image) # this fails\n",
    "        image = gray(image)\n",
    "image_cached_after = X_train[1100].copy()"
   ]
  },
  {
   "cell_type": "code",
   "execution_count": 31,
   "metadata": {},
   "outputs": [
    {
     "data": {
      "text/plain": [
       "<matplotlib.image.AxesImage at 0x7f4f48cedc18>"
      ]
     },
     "execution_count": 31,
     "metadata": {},
     "output_type": "execute_result"
    },
    {
     "data": {
      "image/png": "[encoded data removed]",
      "text/plain": [
       "<matplotlib.figure.Figure at 0x7f4f48d69b00>"
      ]
     },
     "metadata": {},
     "output_type": "display_data"
    }
   ],
   "source": [
    "#Visualize Pre-Processing\n",
    "fig = plt.figure(figsize=(6,10))\n",
    "a = fig.add_subplot(121)\n",
    "a.set_title('Before')\n",
    "plt.imshow(image_cached_before)\n",
    "a = fig.add_subplot(122)\n",
    "a.set_title('After')\n",
    "plt.imshow(image_cached_after)"
   ]
  },
  {
   "cell_type": "code",
   "execution_count": 29,
   "metadata": {},
   "outputs": [
    {
     "data": {
      "text/plain": [
       "0"
      ]
     },
     "execution_count": 29,
     "metadata": {},
     "output_type": "execute_result"
    }
   ],
   "source": [
    "np.max(image_cached_before-image_cached_after)"
   ]
  },
  {
   "cell_type": "code",
   "execution_count": 135,
   "metadata": {},
   "outputs": [
    {
     "name": "stdout",
     "output_type": "stream",
     "text": [
      "(32, 32, 3)\n",
      "(32, 32)\n"
     ]
    }
   ],
   "source": [
    "#plt.imshow(equalize(gray(X_train[1100]))-128)\n",
    "#plt.imshow(X_train[1100])\n",
    "#pre_process(X_train[1100])\n",
    "\n",
    "# Wagwan? Images appear unchanged...\n",
    "#for image in X_train:\n",
    "#    image = pre_process(image)\n",
    "\n",
    "# ??\n",
    "\n",
    "#X_train[1100] = pre_process(X_train[1100])\n",
    "#plt.imshow(X_train[1100])\n",
    "#could not broadcast input array from shape (32,32) into shape (32,32,3)\n",
    "\n",
    "#X_train[1100].shape\n",
    "imagen = X_train[1100]\n",
    "print(imagen.shape)\n",
    "print(gray(imagen).shape)"
   ]
  },
  {
   "cell_type": "markdown",
   "metadata": {},
   "source": [
    "### More advanced pre-processing\n",
    "\n",
    "                                        Credit: Kessy, Lewin, Strimmer 2015 (2016)\n",
    "                                        Optimal Whitening and Decorrelation\n",
    "                                        Imperial \\& Brunel\n",
    "\n",
    "The idea is to transform a d-dimensional vector $x$ of mean $\\mu$ and covariance matrix $\\Sigma = X^T X$ to another d-dimensional vector $z=Wx$. The choice of $W$, the \"whitening\" matrix, depends on the desired transformation. z has the property $var(z)=I$, and if x has been zeroed then $E(z)=0$.\n",
    "\n",
    "The simplest standardization is $Z=Wx$ where $W = V^{-\\frac{1}{2}}$ and $V=diag(\\sigma_{1}^2,...,\\sigma_d^2)$ is the diagonal matrix of variances.\n",
    "\n",
    "Note the identities of decomposition:\n",
    "\n",
    "$\\Sigma=V^\\frac{1}{2} P V^\\frac{1}{2}$ where $P$ is the correlation matrix and $V$ the diagonal covariance matrix;\n",
    "\n",
    "and eigen-decomposition:\n",
    "\n",
    "$\\Sigma = U \\Lambda U^T  $ where $U$ is an eigenvector matrix and $\\Lambda$ an eigenvalue (of $\\Sigma$) matrix;\n",
    "\n",
    "$P = G\\Theta G^T$ where $G$ contains eigenvectors and $\\Theta$ eigenvalues (of $P$).\n",
    "\n",
    "\n",
    "The conclusions of the paper are as follows:\n",
    "\n",
    "1. ZCA whitening\n",
    "$W = \\Sigma\\ ^ {-\\frac{1}{2}}$;\n",
    "2. ZCA-cor whitening (maximally similar to original)\n",
    "$W = P ^ {-\\frac{1}{2}} V ^ {-\\frac{1}{2}}$;\n",
    "3.  PCA-cor (maximally compressed original)\n",
    "$W = \\Theta ^ {-\\frac{1}{2}} G^T V ^ {-\\frac{1}{2}} $."
   ]
  },
  {
   "cell_type": "markdown",
   "metadata": {},
   "source": [
    "### Data Augmentation\n",
    "\n",
    "Some techniques for transformations (affine and other):\n",
    "1. Translation\n",
    "2. Small rotations\n",
    "3. Colour transformations\n",
    "6. Expanding\n",
    "4. Add random noise\n",
    "5. Blurring\n",
    "\n",
    "Motivation:\n",
    "1. Balancing training set (generate more data for the under-represented labels (see above) or trim over-)\n",
    "2. Increase variance of training data to increase robustness of learned model"
   ]
  },
  {
   "cell_type": "markdown",
   "metadata": {},
   "source": [
    "### Model Architecture"
   ]
  },
  {
   "cell_type": "code",
   "execution_count": 1,
   "metadata": {},
   "outputs": [
    {
     "name": "stderr",
     "output_type": "stream",
     "text": [
      "Using TensorFlow backend.\n"
     ]
    }
   ],
   "source": [
    "### Define your architecture here.\n",
    "### Feel free to use as many code cells as needed.\n",
    "\n",
    "import tensorflow as tf\n",
    "from keras.models import Sequential\n",
    "from keras.layers.convolutional import Convolution2D, MaxPooling2D\n",
    "from keras.layers.core import Activation, Flatten, Dense\n",
    "from keras.optimizers import SGD, Adam\n",
    "from keras.utils import np_utils"
   ]
  },
  {
   "cell_type": "code",
   "execution_count": 52,
   "metadata": {
    "collapsed": true
   },
   "outputs": [],
   "source": [
    "# Hyperparameters\n",
    "learning_rate = 0.0001 #0.001\n",
    "n_epochs = 20\n",
    "batch_size = 150\n",
    "\n",
    "# Network params\n",
    "n_classes = 43\n",
    "dropout = 0.7"
   ]
  },
  {
   "cell_type": "markdown",
   "metadata": {},
   "source": [
    "#### LeNet 1998 (later try resnet etc? inception)\n",
    "in -> conv -> relu -> pool -> conv -> relu -> pool -> fc -> relu -> fc -> softmax -> out\n",
    "<p>\n",
    "in -> conv_1 -> pool_1 -> conv_2 -> pool_2 -> fc_1 -> fc_2 -> out"
   ]
  },
  {
   "cell_type": "code",
   "execution_count": 85,
   "metadata": {
    "collapsed": true
   },
   "outputs": [],
   "source": [
    "# Credit: pyimagesearch.com - Adrian Rosebrock 2016 for architecture and code (edited for notebook)\n",
    "\n",
    "# lenet.py\n",
    "\n",
    "def build(width, height, depth, classes, weights_path=None):\n",
    "    model = Sequential()\n",
    "    \n",
    "    #First conv-rely-pool chain\n",
    "    model.add(Convolution2D(filters=20,kernel_size=(5,5),padding='same', input_shape=(height,width,depth),\n",
    "                           data_format=\"channels_last\")) # 20 filters\n",
    "    model.add(Activation('relu'))\n",
    "    model.add(MaxPooling2D(pool_size=(2,2), strides=(2,2))) # n = (n+2p-f)/s+1 = (32-2)/2+1 = 16 (2,2 always halves)\n",
    " \n",
    "    #Second con-relu-pool chain\n",
    "    model.add(Convolution2D(filters=50,kernel_size=(5,5),padding='same',\n",
    "                           data_format=\"channels_first\")) # NB new input_shape, unspecified' 50 filters\n",
    "    model.add(Activation('relu'))\n",
    "    model.add(MaxPooling2D(pool_size=(2,2), strides=(2,2))) # n = (16-2)/2+1 = 8\n",
    "    \n",
    "    #Fully-connected layers\n",
    "    model.add(Flatten())\n",
    "    model.add(Dense(units=500))\n",
    "    model.add(Activation('relu'))\n",
    "    \n",
    "    #Softmax classifier\n",
    "    model.add(Dense(classes)) # penultimate layer, having 43 nodes\n",
    "    model.add(Activation('softmax'))\n",
    "    \n",
    "    #Use any pre-loaded weights - activated if said argument supplied when build() is called\n",
    "    if weights_path is not None:\n",
    "        model.load_weights(weights_path)\n",
    "        \n",
    "    return model"
   ]
  },
  {
   "cell_type": "markdown",
   "metadata": {},
   "source": [
    "### Train, Validate and Test the Model"
   ]
  },
  {
   "cell_type": "markdown",
   "metadata": {},
   "source": [
    "A validation set can be used to assess how well the model is performing. A low accuracy on the training and validation\n",
    "sets imply underfitting. A high accuracy on the training set but low accuracy on the validation set implies overfitting."
   ]
  },
  {
   "cell_type": "code",
   "execution_count": 1,
   "metadata": {
    "collapsed": true
   },
   "outputs": [],
   "source": [
    "### Train your model here.\n",
    "### Calculate and report the accuracy on the training and validation set.\n",
    "### Once a final model architecture is selected, \n",
    "### the accuracy on the test set should be calculated and reported as well.\n",
    "### Feel free to use as many code cells as needed."
   ]
  },
  {
   "cell_type": "code",
   "execution_count": 113,
   "metadata": {
    "scrolled": true
   },
   "outputs": [
    {
     "name": "stdout",
     "output_type": "stream",
     "text": [
      "[INFO] compiling model...\n",
      "[INFO] training...\n",
      "Epoch 1/20\n",
      "34799/34799 [==============================] - 151s - loss: 3.6255 - acc: 0.1988   \n",
      "Epoch 2/20\n",
      "34799/34799 [==============================] - 150s - loss: 1.9570 - acc: 0.4810   \n",
      "Epoch 3/20\n",
      "34799/34799 [==============================] - 147s - loss: 1.3859 - acc: 0.6217   \n",
      "Epoch 4/20\n",
      "34799/34799 [==============================] - 158s - loss: 1.0572 - acc: 0.7166   \n",
      "Epoch 5/20\n",
      "34799/34799 [==============================] - 150s - loss: 0.8241 - acc: 0.7807   \n",
      "Epoch 6/20\n",
      "34799/34799 [==============================] - 150s - loss: 0.6866 - acc: 0.8216   \n",
      "Epoch 7/20\n",
      "34799/34799 [==============================] - 149s - loss: 0.5545 - acc: 0.8554   \n",
      "Epoch 8/20\n",
      "34799/34799 [==============================] - 150s - loss: 0.4749 - acc: 0.8786   \n",
      "Epoch 9/20\n",
      "34799/34799 [==============================] - 149s - loss: 0.4156 - acc: 0.8937   \n",
      "Epoch 10/20\n",
      "34799/34799 [==============================] - 150s - loss: 0.3590 - acc: 0.9093   \n",
      "Epoch 11/20\n",
      "34799/34799 [==============================] - 151s - loss: 0.3126 - acc: 0.9199   \n",
      "Epoch 12/20\n",
      "34799/34799 [==============================] - 149s - loss: 0.2907 - acc: 0.9270   \n",
      "Epoch 13/20\n",
      "34799/34799 [==============================] - 151s - loss: 0.2560 - acc: 0.9352   \n",
      "Epoch 14/20\n",
      "34799/34799 [==============================] - 149s - loss: 0.2245 - acc: 0.9447   \n",
      "Epoch 15/20\n",
      "34799/34799 [==============================] - 151s - loss: 0.2039 - acc: 0.9482   \n",
      "Epoch 16/20\n",
      "34799/34799 [==============================] - 150s - loss: 0.1865 - acc: 0.9544   \n",
      "Epoch 17/20\n",
      "34799/34799 [==============================] - 152s - loss: 0.1708 - acc: 0.9576   \n",
      "Epoch 18/20\n",
      "34799/34799 [==============================] - 147s - loss: 0.1529 - acc: 0.9633   \n",
      "Epoch 19/20\n",
      "34799/34799 [==============================] - 148s - loss: 0.1394 - acc: 0.9660   \n",
      "Epoch 20/20\n",
      "34799/34799 [==============================] - 148s - loss: 0.1576 - acc: 0.9645   \n",
      "[INFO] evaluating\n",
      "4410/4410 [==============================] - 8s     \n",
      "[INFO] valid accuracy:  78.1632659184\n",
      "12630/12630 [==============================] - 25s    \n",
      "[INFO] test accuracy:  80.0395880629\n"
     ]
    }
   ],
   "source": [
    "# lenet_mnist.py - command-line rather than notebook...\n",
    "import argparse\n",
    "ap = argparse.ArgumentParser()\n",
    "ap.add_argument(\"-s\", \"--save-model\", type=int, default=-1,\n",
    "                help=\"(optional) whether or note model should be saved to disk\")\n",
    "ap.add_argument(\"-l\", \"--load-model\", type=int, default=-1,\n",
    "               help=\"(optional) whether or not pre-trained model should be loaded\")\n",
    "ap.add_argument(\"-w\", \"--weights\", type=str,\n",
    "               help=\"(optional) path to weights file\")\n",
    "args = vars(ap.parse_args([])) # need [] to avoid error; \"parse\" not notebook-compatible\n",
    "\n",
    "# Define data including one-hot encoded labels\n",
    "trainData = X_train\n",
    "validData = X_valid\n",
    "testData = X_test\n",
    "trainLabels = np_utils.to_categorical(y_train, 43)\n",
    "validLabels = np_utils.to_categorical(y_valid, 43)\n",
    "testLabels = np_utils.to_categorical(y_test, 43)\n",
    "\n",
    "# Initialize optimizer and model\n",
    "print(\"[INFO] compiling model...\")\n",
    "opt = SGD(lr=learning_rate)\n",
    "model = build(width=32, height=32, depth=3, classes=n_classes,\n",
    "             weights_path=args[\"weights\"] if args[\"load_model\"] > 0 else None)\n",
    "model.compile(loss=\"categorical_crossentropy\", optimizer=opt,\n",
    "             metrics=[\"accuracy\"])\n",
    "\n",
    "# Only train and evaluate the model if not loading pre-trained model\n",
    "if args[\"load_model\"] < 0:\n",
    "    print(\"[INFO] training...\")\n",
    "    model.fit(trainData, trainLabels, batch_size=batch_size, epochs=n_epochs, verbose=1)\n",
    "    # Show accuracy on valid & test sets\n",
    "    print(\"[INFO] evaluating\")\n",
    "    (loss, accuracy) = model.evaluate(validData, validLabels, batch_size=batch_size, verbose=1)\n",
    "    print(\"[INFO] valid accuracy: \", accuracy*100)\n",
    "    (loss, accuracy) = model.evaluate(testData, testLabels, batch_size=batch_size, verbose=1)\n",
    "    print(\"[INFO] test accuracy: \", accuracy*100)\n",
    "    \n",
    "# Optional save\n",
    "if args[\"save_model\"] > 0:\n",
    "    print(\"[INFO] saving...\")\n",
    "    model.save_weights(args[\"weights\"], overwrite=True)\n",
    "\n",
    "# reshape/grayscale\n",
    "# NB dataset.data is our data\n",
    "# NB no valid step yet\n",
    "#trainData = X_train.reshape((X_train.shape[0], 32, 32)) # error 3x\n",
    "#testData = X_test_norm.reshape((X_test.shape[0], 32, 32))\n",
    "#trainLabels = y_train.reshape((y_train.shape[0], 32, 32))\n",
    "#testLabels = y_test.reshape((y_test.shape[0], 32, 32))\n",
    "\n",
    "# re-insert channel axis for Keras\n",
    "#X_train_K = trainData[:, np.newaxis, :,:]\n",
    "#X_test_K = testData[:, np.newaxis, :,:]\n",
    "#y_train_K = trainLabes[:, np.newaxis, :,:]\n",
    "#y_test_K = testLabels[:, np.newaxis, :,:]\n",
    "\n",
    "# One-Hot Encode Labels\n",
    "#y_train_K = np_utils.to_categorical(y_train_K, 43)\n",
    "#y_test_K = np_utils.to_categorical(y_test_K, 43)"
   ]
  },
  {
   "cell_type": "code",
   "execution_count": 89,
   "metadata": {},
   "outputs": [
    {
     "name": "stdout",
     "output_type": "stream",
     "text": [
      "12630/12630 [==============================] - 26s    \n",
      "0.813776722005\n"
     ]
    }
   ],
   "source": [
    "# Test Accuracy\n",
    "# Train=0.9841, test=0.8138\n",
    "(loss, accuracy_test) = model.evaluate(testData, testLabels, batch_size=batch_size, verbose=1)\n",
    "print(accuracy_test)"
   ]
  },
  {
   "cell_type": "code",
   "execution_count": 98,
   "metadata": {},
   "outputs": [
    {
     "name": "stdout",
     "output_type": "stream",
     "text": [
      "4410/4410 [==============================] - 9s     \n",
      "0.808843540699\n"
     ]
    }
   ],
   "source": [
    "# Valid Accuracy 0.8088\n",
    "validData = X_valid\n",
    "validLabels = np_utils.to_categorical(y_valid, 43)\n",
    "(loss, accuracy_valid) = model.evaluate(validData, validLabels, batch_size=batch_size, verbose=1)\n",
    "print(accuracy_valid)"
   ]
  },
  {
   "cell_type": "code",
   "execution_count": 101,
   "metadata": {},
   "outputs": [
    {
     "name": "stdout",
     "output_type": "stream",
     "text": [
      "81.3776722005 %\n",
      "[INFO] valid accuracy:  81.3776722005\n"
     ]
    }
   ],
   "source": [
    "print(accuracy*100, \"%\")\n",
    "print(\"[INFO] valid accuracy: \", accuracy*100)"
   ]
  },
  {
   "cell_type": "markdown",
   "metadata": {},
   "source": [
    "## Iterations Log\n",
    "The first few steps at learning rate = 0.001.\n",
    "1. Grayscale only\n",
    "    0. Test=0.98, valid=0.81, test=0.81.\n",
    "    1. Over-fitting.\n",
    "    1. Now try above-mentioned data-augmentation.\n",
    "    2. If this still doesn't work, tweek architecture.\n",
    "2. Grayscale then histogram-equalized\n",
    "    0. Test=0.98, valid=0.79, test=0.81.\n",
    "    1. No improvement.\n",
    "    Now I'll ignore histo-equal and focus on generating more data artificially.\n",
    "3. ditto then normalized with norm_basic()\n",
    "    0. Fault. Accuracy stalls at around 5%.\n",
    "    1. Let's vizualise norm function to see what's going on.\n",
    "4. As (3) but with norm_basic replaced with (img-128)/128\n",
    "    0. Test=0.98, valid=0.83, test=0.85\n",
    "    0. The function produced b/w images whereas the by-hand calc maintained grayscale.\n",
    "    1. Learning curve looks healthier: 5,13,30,60,78pc accuracy.\n",
    "5. As (4) but with noise (10%) added as first transformation\n",
    "    0. Test=0.96, valid=0.78, test=0.80\n",
    "    1. Worse! Perhaps the noise imparts bias, or more training is required, or params need tweaking.\n",
    "    2. Decrease learning rate ten-fold to 0.0001? Nah, priority is balancing data.\n",
    "6. Having read Param Aggarwal's Medium post (Jan31 2017) I'm goign to train without dividing by 128"
   ]
  },
  {
   "cell_type": "markdown",
   "metadata": {},
   "source": [
    "---\n",
    "\n",
    "## Step 3: Test a Model on New Images\n",
    "\n",
    "To give yourself more insight into how your model is working, download at least five pictures of German traffic signs from the web and use your model to predict the traffic sign type.\n",
    "\n",
    "You may find `signnames.csv` useful as it contains mappings from the class id (integer) to the actual sign name."
   ]
  },
  {
   "cell_type": "markdown",
   "metadata": {},
   "source": [
    "### Load and Output the Images"
   ]
  },
  {
   "cell_type": "code",
   "execution_count": null,
   "metadata": {
    "collapsed": true
   },
   "outputs": [],
   "source": [
    "### Load the images and plot them here.\n",
    "### Feel free to use as many code cells as needed."
   ]
  },
  {
   "cell_type": "markdown",
   "metadata": {},
   "source": [
    "### Predict the Sign Type for Each Image"
   ]
  },
  {
   "cell_type": "code",
   "execution_count": 3,
   "metadata": {
    "collapsed": true
   },
   "outputs": [],
   "source": [
    "### Run the predictions here and use the model to output the prediction for each image.\n",
    "### Make sure to pre-process the images with the same pre-processing pipeline used earlier.\n",
    "### Feel free to use as many code cells as needed."
   ]
  },
  {
   "cell_type": "markdown",
   "metadata": {},
   "source": [
    "### Analyze Performance"
   ]
  },
  {
   "cell_type": "code",
   "execution_count": 4,
   "metadata": {
    "collapsed": true
   },
   "outputs": [],
   "source": [
    "### Calculate the accuracy for these 5 new images. \n",
    "### For example, if the model predicted 1 out of 5 signs correctly, it's 20% accurate on these new images."
   ]
  },
  {
   "cell_type": "markdown",
   "metadata": {},
   "source": [
    "### Output Top 5 Softmax Probabilities For Each Image Found on the Web"
   ]
  },
  {
   "cell_type": "markdown",
   "metadata": {},
   "source": [
    "For each of the new images, print out the model's softmax probabilities to show the **certainty** of the model's predictions (limit the output to the top 5 probabilities for each image). [`tf.nn.top_k`](https://www.tensorflow.org/versions/r0.12/api_docs/python/nn.html#top_k) could prove helpful here. \n",
    "\n",
    "The example below demonstrates how tf.nn.top_k can be used to find the top k predictions for each image.\n",
    "\n",
    "`tf.nn.top_k` will return the values and indices (class ids) of the top k predictions. So if k=3, for each sign, it'll return the 3 largest probabilities (out of a possible 43) and the correspoding class ids.\n",
    "\n",
    "Take this numpy array as an example. The values in the array represent predictions. The array contains softmax probabilities for five candidate images with six possible classes. `tf.nn.top_k` is used to choose the three classes with the highest probability:\n",
    "\n",
    "```\n",
    "# (5, 6) array\n",
    "a = np.array([[ 0.24879643,  0.07032244,  0.12641572,  0.34763842,  0.07893497,\n",
    "         0.12789202],\n",
    "       [ 0.28086119,  0.27569815,  0.08594638,  0.0178669 ,  0.18063401,\n",
    "         0.15899337],\n",
    "       [ 0.26076848,  0.23664738,  0.08020603,  0.07001922,  0.1134371 ,\n",
    "         0.23892179],\n",
    "       [ 0.11943333,  0.29198961,  0.02605103,  0.26234032,  0.1351348 ,\n",
    "         0.16505091],\n",
    "       [ 0.09561176,  0.34396535,  0.0643941 ,  0.16240774,  0.24206137,\n",
    "         0.09155967]])\n",
    "```\n",
    "\n",
    "Running it through `sess.run(tf.nn.top_k(tf.constant(a), k=3))` produces:\n",
    "\n",
    "```\n",
    "TopKV2(values=array([[ 0.34763842,  0.24879643,  0.12789202],\n",
    "       [ 0.28086119,  0.27569815,  0.18063401],\n",
    "       [ 0.26076848,  0.23892179,  0.23664738],\n",
    "       [ 0.29198961,  0.26234032,  0.16505091],\n",
    "       [ 0.34396535,  0.24206137,  0.16240774]]), indices=array([[3, 0, 5],\n",
    "       [0, 1, 4],\n",
    "       [0, 5, 1],\n",
    "       [1, 3, 5],\n",
    "       [1, 4, 3]], dtype=int32))\n",
    "```\n",
    "\n",
    "Looking just at the first row we get `[ 0.34763842,  0.24879643,  0.12789202]`, you can confirm these are the 3 largest probabilities in `a`. You'll also notice `[3, 0, 5]` are the corresponding indices."
   ]
  },
  {
   "cell_type": "code",
   "execution_count": 3,
   "metadata": {
    "collapsed": true
   },
   "outputs": [],
   "source": [
    "### Print out the top five softmax probabilities for the predictions on the German traffic sign images found on the web. \n",
    "### Feel free to use as many code cells as needed."
   ]
  },
  {
   "cell_type": "markdown",
   "metadata": {},
   "source": [
    "### Project Writeup\n",
    "\n",
    "Once you have completed the code implementation, document your results in a project writeup using this [template](https://github.com/udacity/CarND-Traffic-Sign-Classifier-Project/blob/master/writeup_template.md) as a guide. The writeup can be in a markdown or pdf file. "
   ]
  },
  {
   "cell_type": "markdown",
   "metadata": {},
   "source": [
    "> **Note**: Once you have completed all of the code implementations and successfully answered each question above, you may finalize your work by exporting the iPython Notebook as an HTML document. You can do this by using the menu above and navigating to  \\n\",\n",
    "    \"**File -> Download as -> HTML (.html)**. Include the finished document along with this notebook as your submission."
   ]
  },
  {
   "cell_type": "markdown",
   "metadata": {},
   "source": [
    "---\n",
    "\n",
    "## Step 4 (Optional): Visualize the Neural Network's State with Test Images\n",
    "\n",
    " This Section is not required to complete but acts as an additional excersise for understaning the output of a neural network's weights. While neural networks can be a great learning device they are often referred to as a black box. We can understand what the weights of a neural network look like better by plotting their feature maps. After successfully training your neural network you can see what it's feature maps look like by plotting the output of the network's weight layers in response to a test stimuli image. From these plotted feature maps, it's possible to see what characteristics of an image the network finds interesting. For a sign, maybe the inner network feature maps react with high activation to the sign's boundary outline or to the contrast in the sign's painted symbol.\n",
    "\n",
    " Provided for you below is the function code that allows you to get the visualization output of any tensorflow weight layer you want. The inputs to the function should be a stimuli image, one used during training or a new one you provided, and then the tensorflow variable name that represents the layer's state during the training process, for instance if you wanted to see what the [LeNet lab's](https://classroom.udacity.com/nanodegrees/nd013/parts/fbf77062-5703-404e-b60c-95b78b2f3f9e/modules/6df7ae49-c61c-4bb2-a23e-6527e69209ec/lessons/601ae704-1035-4287-8b11-e2c2716217ad/concepts/d4aca031-508f-4e0b-b493-e7b706120f81) feature maps looked like for it's second convolutional layer you could enter conv2 as the tf_activation variable.\n",
    "\n",
    "For an example of what feature map outputs look like, check out NVIDIA's results in their paper [End-to-End Deep Learning for Self-Driving Cars](https://devblogs.nvidia.com/parallelforall/deep-learning-self-driving-cars/) in the section Visualization of internal CNN State. NVIDIA was able to show that their network's inner weights had high activations to road boundary lines by comparing feature maps from an image with a clear path to one without. Try experimenting with a similar test to show that your trained network's weights are looking for interesting features, whether it's looking at differences in feature maps from images with or without a sign, or even what feature maps look like in a trained network vs a completely untrained one on the same sign image.\n",
    "\n",
    "<figure>\n",
    " <img src=\"visualize_cnn.png\" width=\"380\" alt=\"Combined Image\" />\n",
    " <figcaption>\n",
    " <p></p> \n",
    " <p style=\"text-align: center;\"> Your output should look something like this (above)</p> \n",
    " </figcaption>\n",
    "</figure>\n",
    " <p></p> \n"
   ]
  },
  {
   "cell_type": "code",
   "execution_count": null,
   "metadata": {
    "collapsed": true
   },
   "outputs": [],
   "source": [
    "### Visualize your network's feature maps here.\n",
    "### Feel free to use as many code cells as needed.\n",
    "\n",
    "# image_input: the test image being fed into the network to produce the feature maps\n",
    "# tf_activation: should be a tf variable name used during your training procedure that represents the calculated state of a specific weight layer\n",
    "# activation_min/max: can be used to view the activation contrast in more detail, by default matplot sets min and max to the actual min and max values of the output\n",
    "# plt_num: used to plot out multiple different weight feature map sets on the same block, just extend the plt number for each new feature map entry\n",
    "\n",
    "def outputFeatureMap(image_input, tf_activation, activation_min=-1, activation_max=-1 ,plt_num=1):\n",
    "    # Here make sure to preprocess your image_input in a way your network expects\n",
    "    # with size, normalization, ect if needed\n",
    "    # image_input =\n",
    "    # Note: x should be the same name as your network's tensorflow data placeholder variable\n",
    "    # If you get an error tf_activation is not defined it may be having trouble accessing the variable from inside a function\n",
    "    activation = tf_activation.eval(session=sess,feed_dict={x : image_input})\n",
    "    featuremaps = activation.shape[3]\n",
    "    plt.figure(plt_num, figsize=(15,15))\n",
    "    for featuremap in range(featuremaps):\n",
    "        plt.subplot(6,8, featuremap+1) # sets the number of feature maps to show on each row and column\n",
    "        plt.title('FeatureMap ' + str(featuremap)) # displays the feature map number\n",
    "        if activation_min != -1 & activation_max != -1:\n",
    "            plt.imshow(activation[0,:,:, featuremap], interpolation=\"nearest\", vmin =activation_min, vmax=activation_max, cmap=\"gray\")\n",
    "        elif activation_max != -1:\n",
    "            plt.imshow(activation[0,:,:, featuremap], interpolation=\"nearest\", vmax=activation_max, cmap=\"gray\")\n",
    "        elif activation_min !=-1:\n",
    "            plt.imshow(activation[0,:,:, featuremap], interpolation=\"nearest\", vmin=activation_min, cmap=\"gray\")\n",
    "        else:\n",
    "            plt.imshow(activation[0,:,:, featuremap], interpolation=\"nearest\", cmap=\"gray\")"
   ]
  }
 ],
 "metadata": {
  "anaconda-cloud": {},
  "kernelspec": {
   "display_name": "Python 3",
   "language": "python",
   "name": "python3"
  },
  "language_info": {
   "codemirror_mode": {
    "name": "ipython",
    "version": 3
   },
   "file_extension": ".py",
   "mimetype": "text/x-python",
   "name": "python",
   "nbconvert_exporter": "python",
   "pygments_lexer": "ipython3",
   "version": "3.6.3"
  }
 },
 "nbformat": 4,
 "nbformat_minor": 1
}
